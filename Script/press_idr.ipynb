{
 "cells": [
  {
   "cell_type": "markdown",
   "source": [
    "Dati inerenti al volume d'acqua erogato.\n",
    "Quello che vorrei fare è prendere tutti i dati e creare una tabella con due colonne, una timestamp e l'altra con i valori"
   ],
   "metadata": {
    "collapsed": false,
    "pycharm": {
     "name": "#%% md\n"
    }
   }
  },
  {
   "cell_type": "code",
   "execution_count": 2,
   "outputs": [],
   "source": [
    "import pandas as pd"
   ],
   "metadata": {
    "collapsed": false,
    "pycharm": {
     "name": "#%%\n"
    }
   }
  },
  {
   "cell_type": "code",
   "execution_count": 9,
   "outputs": [
    {
     "name": "stderr",
     "output_type": "stream",
     "text": [
      "C:\\Users\\giode\\AppData\\Local\\Temp\\ipykernel_29120\\115512574.py:1: ParserWarning: Length of header or names does not match length of data. This leads to a loss of data with index_col=False.\n",
      "  dati = pd.read_csv(r'C:\\Users\\giode\\PycharmProjects\\Script_Tesi_new\\Dati\\Urban Water Demand Data.txt', sep='\\t', index_col=False, header=0, names=('date','00:00-00:59','01:00-01:59','02:00-02:59','03:00-03:59','04:00-04:59','05:00-05:59','06:00-06:59','07:00-07:59','08:00-08:59','09:00-09:59','10:00-10:59','11:00-11:59','12:00-12:59','13:00-13:59','14:00-14:59','15:00-15:59','16:00-16:59','17:00-17:59','18:00-18:59','19:00-19:59','20:00-20:59','21:00-21:59','22:00-22:59','23:00-23:59'))\n"
     ]
    },
    {
     "data": {
      "text/plain": "         date  00:00-00:59  01:00-01:59  02:00-02:59  03:00-03:59  \\\n0  02-10-2012      13815.2      13290.0      13416.2      13424.6   \n1  03-10-2012      11078.6      11697.2      11279.2      11198.1   \n2  04-10-2012      13771.8      13011.6      12756.0      12661.6   \n3  05-10-2012      13551.6      12653.2      12581.7      12516.8   \n4  06-10-2012      14036.0      13168.7      12758.2      12569.2   \n\n   04:00-04:59  05:00-05:59  06:00-06:59  07:00-07:59  08:00-08:59  ...  \\\n0      14607.3      21604.4      36274.4      36846.8      34012.0  ...   \n1      12768.4      20138.0      34931.9      37314.8      34414.3  ...   \n2      13957.2      21665.0      36087.8      38116.9      34242.8  ...   \n3      14060.3      21484.9      35658.7      38200.6      34912.5  ...   \n4      13392.8      16693.4      23824.1      32488.1      36058.1  ...   \n\n   14:00-14:59  15:00-15:59  16:00-16:59  17:00-17:59  18:00-18:59  \\\n0      28082.1      26270.8      26023.8      28019.3      31906.8   \n1      27743.6      26022.8      25997.0      28242.3      31042.9   \n2      27982.7      26031.9      25612.4      27847.9      31213.1   \n3      28179.3      26272.5      25954.0      27709.7      30704.5   \n4      27668.6      25895.9      25595.1      26710.9      28884.1   \n\n   19:00-19:59  20:00-20:59  21:00-21:59  22:00-22:59  23:00-23:59  \n0      32429.2      27880.0      23147.9      20957.8      15324.4  \n1      32205.7      27964.7      23597.8      20851.1      16044.3  \n2      32037.0      27599.1      23238.5      20826.7      15697.4  \n3      30711.2      26048.8      22459.6      20299.4      16377.4  \n4      28152.1      24205.4      21621.2      19965.6      17302.7  \n\n[5 rows x 25 columns]",
      "text/html": "<div>\n<style scoped>\n    .dataframe tbody tr th:only-of-type {\n        vertical-align: middle;\n    }\n\n    .dataframe tbody tr th {\n        vertical-align: top;\n    }\n\n    .dataframe thead th {\n        text-align: right;\n    }\n</style>\n<table border=\"1\" class=\"dataframe\">\n  <thead>\n    <tr style=\"text-align: right;\">\n      <th></th>\n      <th>date</th>\n      <th>00:00-00:59</th>\n      <th>01:00-01:59</th>\n      <th>02:00-02:59</th>\n      <th>03:00-03:59</th>\n      <th>04:00-04:59</th>\n      <th>05:00-05:59</th>\n      <th>06:00-06:59</th>\n      <th>07:00-07:59</th>\n      <th>08:00-08:59</th>\n      <th>...</th>\n      <th>14:00-14:59</th>\n      <th>15:00-15:59</th>\n      <th>16:00-16:59</th>\n      <th>17:00-17:59</th>\n      <th>18:00-18:59</th>\n      <th>19:00-19:59</th>\n      <th>20:00-20:59</th>\n      <th>21:00-21:59</th>\n      <th>22:00-22:59</th>\n      <th>23:00-23:59</th>\n    </tr>\n  </thead>\n  <tbody>\n    <tr>\n      <th>0</th>\n      <td>02-10-2012</td>\n      <td>13815.2</td>\n      <td>13290.0</td>\n      <td>13416.2</td>\n      <td>13424.6</td>\n      <td>14607.3</td>\n      <td>21604.4</td>\n      <td>36274.4</td>\n      <td>36846.8</td>\n      <td>34012.0</td>\n      <td>...</td>\n      <td>28082.1</td>\n      <td>26270.8</td>\n      <td>26023.8</td>\n      <td>28019.3</td>\n      <td>31906.8</td>\n      <td>32429.2</td>\n      <td>27880.0</td>\n      <td>23147.9</td>\n      <td>20957.8</td>\n      <td>15324.4</td>\n    </tr>\n    <tr>\n      <th>1</th>\n      <td>03-10-2012</td>\n      <td>11078.6</td>\n      <td>11697.2</td>\n      <td>11279.2</td>\n      <td>11198.1</td>\n      <td>12768.4</td>\n      <td>20138.0</td>\n      <td>34931.9</td>\n      <td>37314.8</td>\n      <td>34414.3</td>\n      <td>...</td>\n      <td>27743.6</td>\n      <td>26022.8</td>\n      <td>25997.0</td>\n      <td>28242.3</td>\n      <td>31042.9</td>\n      <td>32205.7</td>\n      <td>27964.7</td>\n      <td>23597.8</td>\n      <td>20851.1</td>\n      <td>16044.3</td>\n    </tr>\n    <tr>\n      <th>2</th>\n      <td>04-10-2012</td>\n      <td>13771.8</td>\n      <td>13011.6</td>\n      <td>12756.0</td>\n      <td>12661.6</td>\n      <td>13957.2</td>\n      <td>21665.0</td>\n      <td>36087.8</td>\n      <td>38116.9</td>\n      <td>34242.8</td>\n      <td>...</td>\n      <td>27982.7</td>\n      <td>26031.9</td>\n      <td>25612.4</td>\n      <td>27847.9</td>\n      <td>31213.1</td>\n      <td>32037.0</td>\n      <td>27599.1</td>\n      <td>23238.5</td>\n      <td>20826.7</td>\n      <td>15697.4</td>\n    </tr>\n    <tr>\n      <th>3</th>\n      <td>05-10-2012</td>\n      <td>13551.6</td>\n      <td>12653.2</td>\n      <td>12581.7</td>\n      <td>12516.8</td>\n      <td>14060.3</td>\n      <td>21484.9</td>\n      <td>35658.7</td>\n      <td>38200.6</td>\n      <td>34912.5</td>\n      <td>...</td>\n      <td>28179.3</td>\n      <td>26272.5</td>\n      <td>25954.0</td>\n      <td>27709.7</td>\n      <td>30704.5</td>\n      <td>30711.2</td>\n      <td>26048.8</td>\n      <td>22459.6</td>\n      <td>20299.4</td>\n      <td>16377.4</td>\n    </tr>\n    <tr>\n      <th>4</th>\n      <td>06-10-2012</td>\n      <td>14036.0</td>\n      <td>13168.7</td>\n      <td>12758.2</td>\n      <td>12569.2</td>\n      <td>13392.8</td>\n      <td>16693.4</td>\n      <td>23824.1</td>\n      <td>32488.1</td>\n      <td>36058.1</td>\n      <td>...</td>\n      <td>27668.6</td>\n      <td>25895.9</td>\n      <td>25595.1</td>\n      <td>26710.9</td>\n      <td>28884.1</td>\n      <td>28152.1</td>\n      <td>24205.4</td>\n      <td>21621.2</td>\n      <td>19965.6</td>\n      <td>17302.7</td>\n    </tr>\n  </tbody>\n</table>\n<p>5 rows × 25 columns</p>\n</div>"
     },
     "execution_count": 9,
     "metadata": {},
     "output_type": "execute_result"
    }
   ],
   "source": [
    "dati = pd.read_csv(r'C:\\Users\\giode\\PycharmProjects\\Script_Tesi_new\\Dati\\Urban Water Demand Data.txt', sep='\\t', index_col=False, header=0, names=('date','00:00-00:59','01:00-01:59','02:00-02:59','03:00-03:59','04:00-04:59','05:00-05:59','06:00-06:59','07:00-07:59','08:00-08:59','09:00-09:59','10:00-10:59','11:00-11:59','12:00-12:59','13:00-13:59','14:00-14:59','15:00-15:59','16:00-16:59','17:00-17:59','18:00-18:59','19:00-19:59','20:00-20:59','21:00-21:59','22:00-22:59','23:00-23:59'))\n",
    "dati.head()"
   ],
   "metadata": {
    "collapsed": false,
    "pycharm": {
     "name": "#%%\n"
    }
   }
  },
  {
   "cell_type": "code",
   "execution_count": 10,
   "outputs": [
    {
     "data": {
      "text/plain": "Index(['date', '00:00-00:59', '01:00-01:59', '02:00-02:59', '03:00-03:59',\n       '04:00-04:59', '05:00-05:59', '06:00-06:59', '07:00-07:59',\n       '08:00-08:59', '09:00-09:59', '10:00-10:59', '11:00-11:59',\n       '12:00-12:59', '13:00-13:59', '14:00-14:59', '15:00-15:59',\n       '16:00-16:59', '17:00-17:59', '18:00-18:59', '19:00-19:59',\n       '20:00-20:59', '21:00-21:59', '22:00-22:59', '23:00-23:59'],\n      dtype='object')"
     },
     "execution_count": 10,
     "metadata": {},
     "output_type": "execute_result"
    }
   ],
   "source": [
    "dati.columns"
   ],
   "metadata": {
    "collapsed": false,
    "pycharm": {
     "name": "#%%\n"
    }
   }
  },
  {
   "cell_type": "code",
   "execution_count": 19,
   "outputs": [
    {
     "data": {
      "text/plain": "      level_0      level_1           0\n0           0         date  02-10-2012\n1           0  00:00-00:59     13815.2\n2           0  01:00-01:59     13290.0\n3           0  02:00-02:59     13416.2\n4           0  03:00-03:59     13424.6\n...       ...          ...         ...\n8845      353  19:00-19:59     31425.0\n8846      353  20:00-20:59     27188.7\n8847      353  21:00-21:59     22630.9\n8848      353  22:00-22:59     19858.5\n8849      353  23:00-23:59     14057.3\n\n[8850 rows x 3 columns]",
      "text/html": "<div>\n<style scoped>\n    .dataframe tbody tr th:only-of-type {\n        vertical-align: middle;\n    }\n\n    .dataframe tbody tr th {\n        vertical-align: top;\n    }\n\n    .dataframe thead th {\n        text-align: right;\n    }\n</style>\n<table border=\"1\" class=\"dataframe\">\n  <thead>\n    <tr style=\"text-align: right;\">\n      <th></th>\n      <th>level_0</th>\n      <th>level_1</th>\n      <th>0</th>\n    </tr>\n  </thead>\n  <tbody>\n    <tr>\n      <th>0</th>\n      <td>0</td>\n      <td>date</td>\n      <td>02-10-2012</td>\n    </tr>\n    <tr>\n      <th>1</th>\n      <td>0</td>\n      <td>00:00-00:59</td>\n      <td>13815.2</td>\n    </tr>\n    <tr>\n      <th>2</th>\n      <td>0</td>\n      <td>01:00-01:59</td>\n      <td>13290.0</td>\n    </tr>\n    <tr>\n      <th>3</th>\n      <td>0</td>\n      <td>02:00-02:59</td>\n      <td>13416.2</td>\n    </tr>\n    <tr>\n      <th>4</th>\n      <td>0</td>\n      <td>03:00-03:59</td>\n      <td>13424.6</td>\n    </tr>\n    <tr>\n      <th>...</th>\n      <td>...</td>\n      <td>...</td>\n      <td>...</td>\n    </tr>\n    <tr>\n      <th>8845</th>\n      <td>353</td>\n      <td>19:00-19:59</td>\n      <td>31425.0</td>\n    </tr>\n    <tr>\n      <th>8846</th>\n      <td>353</td>\n      <td>20:00-20:59</td>\n      <td>27188.7</td>\n    </tr>\n    <tr>\n      <th>8847</th>\n      <td>353</td>\n      <td>21:00-21:59</td>\n      <td>22630.9</td>\n    </tr>\n    <tr>\n      <th>8848</th>\n      <td>353</td>\n      <td>22:00-22:59</td>\n      <td>19858.5</td>\n    </tr>\n    <tr>\n      <th>8849</th>\n      <td>353</td>\n      <td>23:00-23:59</td>\n      <td>14057.3</td>\n    </tr>\n  </tbody>\n</table>\n<p>8850 rows × 3 columns</p>\n</div>"
     },
     "execution_count": 19,
     "metadata": {},
     "output_type": "execute_result"
    }
   ],
   "source": [
    "dati.stack().reset_index()"
   ],
   "metadata": {
    "collapsed": false,
    "pycharm": {
     "name": "#%%\n"
    }
   }
  },
  {
   "cell_type": "code",
   "execution_count": 15,
   "outputs": [
    {
     "data": {
      "text/plain": "            date     variable    value\n0     02-10-2012  00:00-00:59  13815.2\n1     03-10-2012  00:00-00:59  11078.6\n2     04-10-2012  00:00-00:59  13771.8\n3     05-10-2012  00:00-00:59  13551.6\n4     06-10-2012  00:00-00:59  14036.0\n...          ...          ...      ...\n8491  26-09-2013  23:00-23:59  17192.4\n8492  27-09-2013  23:00-23:59  17097.9\n8493  28-09-2013  23:00-23:59  17090.2\n8494  29-09-2013  23:00-23:59  15565.5\n8495  30-09-2013  23:00-23:59  14057.3\n\n[8496 rows x 3 columns]",
      "text/html": "<div>\n<style scoped>\n    .dataframe tbody tr th:only-of-type {\n        vertical-align: middle;\n    }\n\n    .dataframe tbody tr th {\n        vertical-align: top;\n    }\n\n    .dataframe thead th {\n        text-align: right;\n    }\n</style>\n<table border=\"1\" class=\"dataframe\">\n  <thead>\n    <tr style=\"text-align: right;\">\n      <th></th>\n      <th>date</th>\n      <th>variable</th>\n      <th>value</th>\n    </tr>\n  </thead>\n  <tbody>\n    <tr>\n      <th>0</th>\n      <td>02-10-2012</td>\n      <td>00:00-00:59</td>\n      <td>13815.2</td>\n    </tr>\n    <tr>\n      <th>1</th>\n      <td>03-10-2012</td>\n      <td>00:00-00:59</td>\n      <td>11078.6</td>\n    </tr>\n    <tr>\n      <th>2</th>\n      <td>04-10-2012</td>\n      <td>00:00-00:59</td>\n      <td>13771.8</td>\n    </tr>\n    <tr>\n      <th>3</th>\n      <td>05-10-2012</td>\n      <td>00:00-00:59</td>\n      <td>13551.6</td>\n    </tr>\n    <tr>\n      <th>4</th>\n      <td>06-10-2012</td>\n      <td>00:00-00:59</td>\n      <td>14036.0</td>\n    </tr>\n    <tr>\n      <th>...</th>\n      <td>...</td>\n      <td>...</td>\n      <td>...</td>\n    </tr>\n    <tr>\n      <th>8491</th>\n      <td>26-09-2013</td>\n      <td>23:00-23:59</td>\n      <td>17192.4</td>\n    </tr>\n    <tr>\n      <th>8492</th>\n      <td>27-09-2013</td>\n      <td>23:00-23:59</td>\n      <td>17097.9</td>\n    </tr>\n    <tr>\n      <th>8493</th>\n      <td>28-09-2013</td>\n      <td>23:00-23:59</td>\n      <td>17090.2</td>\n    </tr>\n    <tr>\n      <th>8494</th>\n      <td>29-09-2013</td>\n      <td>23:00-23:59</td>\n      <td>15565.5</td>\n    </tr>\n    <tr>\n      <th>8495</th>\n      <td>30-09-2013</td>\n      <td>23:00-23:59</td>\n      <td>14057.3</td>\n    </tr>\n  </tbody>\n</table>\n<p>8496 rows × 3 columns</p>\n</div>"
     },
     "execution_count": 15,
     "metadata": {},
     "output_type": "execute_result"
    }
   ],
   "source": [
    "dati.melt(id_vars=['date'], value_vars=['00:00-00:59', '01:00-01:59', '02:00-02:59', '03:00-03:59',\n",
    "       '04:00-04:59', '05:00-05:59', '06:00-06:59', '07:00-07:59',\n",
    "       '08:00-08:59', '09:00-09:59', '10:00-10:59', '11:00-11:59',\n",
    "       '12:00-12:59', '13:00-13:59', '14:00-14:59', '15:00-15:59',\n",
    "       '16:00-16:59', '17:00-17:59', '18:00-18:59', '19:00-19:59',\n",
    "       '20:00-20:59', '21:00-21:59', '22:00-22:59', '23:00-23:59'], col_level=-1)"
   ],
   "metadata": {
    "collapsed": false,
    "pycharm": {
     "name": "#%%\n"
    }
   }
  }
 ],
 "metadata": {
  "kernelspec": {
   "display_name": "Python 3",
   "language": "python",
   "name": "python3"
  },
  "language_info": {
   "codemirror_mode": {
    "name": "ipython",
    "version": 2
   },
   "file_extension": ".py",
   "mimetype": "text/x-python",
   "name": "python",
   "nbconvert_exporter": "python",
   "pygments_lexer": "ipython2",
   "version": "2.7.6"
  }
 },
 "nbformat": 4,
 "nbformat_minor": 0
}