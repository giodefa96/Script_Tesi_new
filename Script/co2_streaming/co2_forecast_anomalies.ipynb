{
 "cells": [
  {
   "cell_type": "markdown",
   "metadata": {
    "pycharm": {
     "name": "#%% md\n"
    }
   },
   "source": [
    "All'interno di questo script proverò un po' di modelli di Online Machine Learning, utilizzando la libreria River.\n",
    "Prima di tutto mi soffermerò sul come trattare i miei dati, valori nulli ecc, penserò a delle features da aggiungere.\n",
    "Poi proverò sicuramente algoritmi di regressione(di vario tipo), poi tipo arima e successivamente proverò con dell'anomaly detection."
   ]
  },
  {
   "cell_type": "markdown",
   "metadata": {
    "pycharm": {
     "name": "#%% md\n"
    }
   },
   "source": [
    "Sicuramente potrò provare come primi modelli il Nowcasting, questo è uno speciale caso del forecasting che consiste nel predirre il prossimo valore nella time series.\n",
    "\n"
   ]
  },
  {
   "cell_type": "markdown",
   "metadata": {
    "pycharm": {
     "name": "#%% md\n"
    }
   },
   "source": [
    "In ogni caso devo ragionare come se non avessi il dataset completo, quindi sicuramente devo prepararmi per ogni evenienza!"
   ]
  },
  {
   "cell_type": "code",
   "execution_count": 55,
   "metadata": {
    "pycharm": {
     "name": "#%%\n"
    }
   },
   "outputs": [],
   "source": [
    "from river import compose\n",
    "\n",
    "from river import metrics\n",
    "import matplotlib.pyplot as plt\n",
    "import datetime as dt\n",
    "from river import linear_model\n",
    "from pprint import pprint\n",
    "from river import preprocessing\n",
    "import pandas as pd"
   ]
  },
  {
   "cell_type": "code",
   "execution_count": 10,
   "metadata": {
    "pycharm": {
     "name": "#%%\n"
    }
   },
   "outputs": [],
   "source": [
    "from river import stream\n",
    "\n",
    "dataset = stream.iter_csv(\"C:\\\\Users\\\\giode\\\\PycharmProjects\\\\Script_Tesi_new\\\\Script\\\\co2_streaming\\\\Project_data_2021_2022 (TRAINSET)(1).csv\")\n"
   ]
  },
  {
   "cell_type": "code",
   "execution_count": 24,
   "metadata": {
    "pycharm": {
     "name": "#%%\n"
    }
   },
   "outputs": [
    {
     "data": {
      "text/plain": "({'Date': datetime.datetime(2004, 3, 10, 0, 0), 'Hour': 18}, 1360.0)"
     },
     "execution_count": 24,
     "metadata": {},
     "output_type": "execute_result"
    }
   ],
   "source": [
    "from river import compose\n",
    "\n",
    "X_y = stream.iter_csv(\n",
    "    'C:\\\\Users\\\\giode\\\\PycharmProjects\\\\Script_Tesi_new\\\\Script\\\\co2_streaming\\\\Project_data_2021_2022 (TRAINSET)(1).csv',\n",
    "    converters={\n",
    "        'CO': float,\n",
    "        'Hour': int\n",
    "    },\n",
    "    parse_dates={'Date': '%Y-%m-%d'},\n",
    "    target= 'CO',\n",
    "    \n",
    ")\n",
    "\n",
    "x,y = next(X_y)\n",
    "x,y"
   ]
  },
  {
   "cell_type": "code",
   "execution_count": 33,
   "metadata": {
    "pycharm": {
     "name": "#%%\n"
    }
   },
   "outputs": [
    {
     "data": {
      "text/plain": "({'Date': datetime.datetime(2004, 3, 11, 0, 0), 'Hour': 3}, 1010.0)"
     },
     "execution_count": 33,
     "metadata": {},
     "output_type": "execute_result"
    }
   ],
   "source": [
    "x,y = next(X_y)\n",
    "x,y"
   ]
  },
  {
   "cell_type": "code",
   "execution_count": 34,
   "metadata": {
    "pycharm": {
     "name": "#%%\n"
    }
   },
   "outputs": [],
   "source": [
    "import calendar\n",
    "\n",
    "def get_month(x):\n",
    "    x['month'] = x['Date'].month\n",
    "    return {\n",
    "        \n",
    "        calendar.month_name[month]: month == x['Date'].month\n",
    "        for month in range(1, 13)\n",
    "    }\n"
   ]
  },
  {
   "cell_type": "code",
   "execution_count": 35,
   "metadata": {
    "pycharm": {
     "name": "#%%\n"
    }
   },
   "outputs": [
    {
     "data": {
      "text/plain": "{'January': False,\n 'February': False,\n 'March': True,\n 'April': False,\n 'May': False,\n 'June': False,\n 'July': False,\n 'August': False,\n 'September': False,\n 'October': False,\n 'November': False,\n 'December': False}"
     },
     "execution_count": 35,
     "metadata": {},
     "output_type": "execute_result"
    }
   ],
   "source": [
    "def get_month(x):\n",
    "    x['month'] = x['Date'].month\n",
    "    return {\n",
    "        \n",
    "        calendar.month_name[month]: month == x['Date'].month\n",
    "        for month in range(1, 13)\n",
    "    }\n",
    "get_month(x)"
   ]
  },
  {
   "cell_type": "code",
   "execution_count": 39,
   "metadata": {
    "pycharm": {
     "name": "#%%\n"
    }
   },
   "outputs": [],
   "source": [
    "def get_ordinal_date(x):\n",
    "    x['ordinal_date'] = x['Date'].toordinal()\n",
    "    #x['month'] = x['Date'].month\n",
    "    x['day'] = x['Date'].day\n",
    "\n",
    "    return x\n",
    "\n",
    "\n",
    "model = compose.Pipeline(\n",
    "    compose.FuncTransformer(get_month),\n",
    "    #compose.Select('day'),\n",
    "    #preprocessing.StandardScaler(),\n",
    "    linear_model.LinearRegression()\n",
    ")\n"
   ]
  },
  {
   "cell_type": "code",
   "execution_count": 42,
   "metadata": {
    "pycharm": {
     "name": "#%%\n"
    }
   },
   "outputs": [
    {
     "name": "stdout",
     "output_type": "stream",
     "text": [
      "{'April': False,\n",
      " 'August': False,\n",
      " 'December': False,\n",
      " 'February': False,\n",
      " 'January': False,\n",
      " 'July': False,\n",
      " 'June': False,\n",
      " 'March': True,\n",
      " 'May': False,\n",
      " 'November': False,\n",
      " 'October': False,\n",
      " 'September': False}\n"
     ]
    }
   ],
   "source": [
    "x,y = next(X_y)\n",
    "pprint(model.transform_one(x))"
   ]
  },
  {
   "cell_type": "code",
   "execution_count": 43,
   "metadata": {
    "pycharm": {
     "name": "#%%\n"
    }
   },
   "outputs": [],
   "source": [
    "from river import metrics\n",
    "import matplotlib.pyplot as plt\n",
    "\n",
    "\n",
    "def evaluate_model(model,a,b):\n",
    "\n",
    "    metric = metrics.Rolling(metrics.MAE(), 12)\n",
    "\n",
    "    dates = []\n",
    "    y_trues = []\n",
    "    y_preds = []\n",
    "\n",
    "    for x, y in X_y:\n",
    "\n",
    "        # Obtain the prior prediction and update the model in one go\n",
    "        y_pred = model.predict_one(x)\n",
    "        model.learn_one(x, y)\n",
    "\n",
    "        # Update the error metric\n",
    "        metric.update(y, y_pred)\n",
    "\n",
    "        # Store the true value and the prediction\n",
    "        dates.append(x['Date'])\n",
    "        y_trues.append(y)\n",
    "        y_preds.append(y_pred)\n",
    "\n",
    "    # Plot the results\n",
    "    fig, ax = plt.subplots(figsize=(a, b))\n",
    "    ax.grid(alpha=0.75)\n",
    "    ax.plot(dates, y_trues, lw=3, color='#2ecc71', alpha=0.8, label='Ground truth')\n",
    "    ax.plot(dates, y_preds, lw=3, color='#e74c3c', alpha=0.8, label='Prediction')\n",
    "    ax.legend()\n",
    "    ax.set_title(metric)"
   ]
  },
  {
   "cell_type": "code",
   "execution_count": 44,
   "metadata": {
    "pycharm": {
     "name": "#%%\n"
    }
   },
   "outputs": [
    {
     "ename": "TypeError",
     "evalue": "evaluate_model() missing 2 required positional arguments: 'a' and 'b'",
     "output_type": "error",
     "traceback": [
      "\u001B[1;31m---------------------------------------------------------------------------\u001B[0m",
      "\u001B[1;31mTypeError\u001B[0m                                 Traceback (most recent call last)",
      "Input \u001B[1;32mIn [44]\u001B[0m, in \u001B[0;36m<cell line: 1>\u001B[1;34m()\u001B[0m\n\u001B[1;32m----> 1\u001B[0m \u001B[43mevaluate_model\u001B[49m\u001B[43m(\u001B[49m\u001B[43mmodel\u001B[49m\u001B[43m)\u001B[49m\n",
      "\u001B[1;31mTypeError\u001B[0m: evaluate_model() missing 2 required positional arguments: 'a' and 'b'"
     ]
    }
   ],
   "source": [
    "evaluate_model(model)"
   ]
  },
  {
   "cell_type": "code",
   "execution_count": 45,
   "metadata": {
    "pycharm": {
     "name": "#%%\n"
    }
   },
   "outputs": [
    {
     "data": {
      "text/plain": "{'April': False,\n 'August': False,\n 'December': False,\n 'February': False,\n 'January': False,\n 'July': False,\n 'June': False,\n 'March': True,\n 'May': False,\n 'November': False,\n 'October': False,\n 'September': False}"
     },
     "execution_count": 45,
     "metadata": {},
     "output_type": "execute_result"
    }
   ],
   "source": [
    "{'April': False,\n",
    " 'August': False,\n",
    " 'December': False,\n",
    " 'February': False,\n",
    " 'January': False,\n",
    " 'July': False,\n",
    " 'June': False,\n",
    " 'March': True,\n",
    " 'May': False,\n",
    " 'November': False,\n",
    " 'October': False,\n",
    " 'September': False}"
   ]
  },
  {
   "cell_type": "code",
   "execution_count": 48,
   "metadata": {
    "pycharm": {
     "name": "#%%\n"
    }
   },
   "outputs": [
    {
     "ename": "FileNotFoundError",
     "evalue": "[Errno 2] No such file or directory: '/home/giodefa/Desktop/Unimib/Data Science/Tesi/Script/co2_streaming/Project_data_2021_2022 (TRAINSET)(1).csv'",
     "output_type": "error",
     "traceback": [
      "\u001B[1;31m---------------------------------------------------------------------------\u001B[0m",
      "\u001B[1;31mFileNotFoundError\u001B[0m                         Traceback (most recent call last)",
      "Input \u001B[1;32mIn [48]\u001B[0m, in \u001B[0;36m<cell line: 40>\u001B[1;34m()\u001B[0m\n\u001B[0;32m     27\u001B[0m model \u001B[38;5;241m=\u001B[39m compose\u001B[38;5;241m.\u001B[39mPipeline(\n\u001B[0;32m     28\u001B[0m     \n\u001B[0;32m     29\u001B[0m     compose\u001B[38;5;241m.\u001B[39mTransformerUnion(\n\u001B[1;32m   (...)\u001B[0m\n\u001B[0;32m     35\u001B[0m     (\u001B[38;5;124m'\u001B[39m\u001B[38;5;124mlin_reg\u001B[39m\u001B[38;5;124m'\u001B[39m,linear_model\u001B[38;5;241m.\u001B[39mLinearRegression())\n\u001B[0;32m     36\u001B[0m )\n\u001B[0;32m     38\u001B[0m model \u001B[38;5;241m=\u001B[39m preprocessing\u001B[38;5;241m.\u001B[39mTargetStandardScaler(regressor\u001B[38;5;241m=\u001B[39mmodel)\n\u001B[1;32m---> 40\u001B[0m \u001B[43mevaluate_model\u001B[49m\u001B[43m(\u001B[49m\u001B[43mmodel\u001B[49m\u001B[43m,\u001B[49m\u001B[38;5;241;43m15\u001B[39;49m\u001B[43m,\u001B[49m\u001B[38;5;241;43m5\u001B[39;49m\u001B[43m)\u001B[49m\n",
      "Input \u001B[1;32mIn [43]\u001B[0m, in \u001B[0;36mevaluate_model\u001B[1;34m(model, a, b)\u001B[0m\n\u001B[0;32m     10\u001B[0m y_trues \u001B[38;5;241m=\u001B[39m []\n\u001B[0;32m     11\u001B[0m y_preds \u001B[38;5;241m=\u001B[39m []\n\u001B[1;32m---> 13\u001B[0m \u001B[38;5;28;01mfor\u001B[39;00m x, y \u001B[38;5;129;01min\u001B[39;00m X_y:\n\u001B[0;32m     14\u001B[0m \n\u001B[0;32m     15\u001B[0m     \u001B[38;5;66;03m# Obtain the prior prediction and update the model in one go\u001B[39;00m\n\u001B[0;32m     16\u001B[0m     y_pred \u001B[38;5;241m=\u001B[39m model\u001B[38;5;241m.\u001B[39mpredict_one(x)\n\u001B[0;32m     17\u001B[0m     model\u001B[38;5;241m.\u001B[39mlearn_one(x, y)\n",
      "File \u001B[1;32m~\\PycharmProjects\\Script_Tesi_new\\venv\\lib\\site-packages\\river\\stream\\iter_csv.py:152\u001B[0m, in \u001B[0;36miter_csv\u001B[1;34m(filepath_or_buffer, target, converters, parse_dates, drop, drop_nones, fraction, compression, seed, field_size_limit, **kwargs)\u001B[0m\n\u001B[0;32m    150\u001B[0m buffer \u001B[38;5;241m=\u001B[39m filepath_or_buffer\n\u001B[0;32m    151\u001B[0m \u001B[38;5;28;01mif\u001B[39;00m \u001B[38;5;129;01mnot\u001B[39;00m \u001B[38;5;28mhasattr\u001B[39m(buffer, \u001B[38;5;124m\"\u001B[39m\u001B[38;5;124mread\u001B[39m\u001B[38;5;124m\"\u001B[39m):\n\u001B[1;32m--> 152\u001B[0m     buffer \u001B[38;5;241m=\u001B[39m \u001B[43mutils\u001B[49m\u001B[38;5;241;43m.\u001B[39;49m\u001B[43mopen_filepath\u001B[49m\u001B[43m(\u001B[49m\u001B[43mbuffer\u001B[49m\u001B[43m,\u001B[49m\u001B[43m \u001B[49m\u001B[43mcompression\u001B[49m\u001B[43m)\u001B[49m\n\u001B[0;32m    154\u001B[0m \u001B[38;5;28;01mfor\u001B[39;00m x \u001B[38;5;129;01min\u001B[39;00m DictReader(fraction\u001B[38;5;241m=\u001B[39mfraction, rng\u001B[38;5;241m=\u001B[39mrandom\u001B[38;5;241m.\u001B[39mRandom(seed), f\u001B[38;5;241m=\u001B[39mbuffer, \u001B[38;5;241m*\u001B[39m\u001B[38;5;241m*\u001B[39mkwargs):\n\u001B[0;32m    156\u001B[0m     \u001B[38;5;28;01mif\u001B[39;00m drop:\n",
      "File \u001B[1;32m~\\PycharmProjects\\Script_Tesi_new\\venv\\lib\\site-packages\\river\\stream\\utils.py:30\u001B[0m, in \u001B[0;36mopen_filepath\u001B[1;34m(filepath_or_buffer, compression)\u001B[0m\n\u001B[0;32m     23\u001B[0m open_func \u001B[38;5;241m=\u001B[39m {\n\u001B[0;32m     24\u001B[0m     \u001B[38;5;28;01mNone\u001B[39;00m: \u001B[38;5;28mopen\u001B[39m,\n\u001B[0;32m     25\u001B[0m     \u001B[38;5;124m\"\u001B[39m\u001B[38;5;124mgzip\u001B[39m\u001B[38;5;124m\"\u001B[39m: functools\u001B[38;5;241m.\u001B[39mpartial(gzip\u001B[38;5;241m.\u001B[39mopen, mode\u001B[38;5;241m=\u001B[39m\u001B[38;5;124m\"\u001B[39m\u001B[38;5;124mrt\u001B[39m\u001B[38;5;124m\"\u001B[39m),\n\u001B[0;32m     26\u001B[0m     \u001B[38;5;124m\"\u001B[39m\u001B[38;5;124mzip\u001B[39m\u001B[38;5;124m\"\u001B[39m: open_zipfile,\n\u001B[0;32m     27\u001B[0m }[compression]\n\u001B[0;32m     29\u001B[0m \u001B[38;5;66;03m# Open the file using the opening method\u001B[39;00m\n\u001B[1;32m---> 30\u001B[0m \u001B[38;5;28;01mreturn\u001B[39;00m \u001B[43mopen_func\u001B[49m\u001B[43m(\u001B[49m\u001B[43mfilepath_or_buffer\u001B[49m\u001B[43m)\u001B[49m\n",
      "\u001B[1;31mFileNotFoundError\u001B[0m: [Errno 2] No such file or directory: '/home/giodefa/Desktop/Unimib/Data Science/Tesi/Script/co2_streaming/Project_data_2021_2022 (TRAINSET)(1).csv'"
     ]
    }
   ],
   "source": [
    "X_y = stream.iter_csv(\n",
    "    '/home/giodefa/Desktop/Unimib/Data Science/Tesi/Script/co2_streaming/Project_data_2021_2022 (TRAINSET)(1).csv',\n",
    "    converters={\n",
    "        'CO': float,\n",
    "        'Hour': int\n",
    "    },\n",
    "    parse_dates={'Date': '%Y-%m-%d'},\n",
    "    target= 'CO',\n",
    "    \n",
    ")\n",
    "\n",
    "\n",
    "def get_ordinal_date(x):\n",
    "    x['ordinal_date'] = x['Date'].toordinal()\n",
    "    x['month'] = x['Date'].month\n",
    "    x['day'] = x['Date'].day\n",
    "\n",
    "    return x\n",
    "\n",
    "def get_month(x):\n",
    "    return {\n",
    "        calendar.month_name[month]: month == x['Date'].month\n",
    "        for month in range(1, 13)\n",
    "    }\n",
    "\n",
    "\n",
    "model = compose.Pipeline(\n",
    "    \n",
    "    compose.TransformerUnion(\n",
    "        compose.FuncTransformer(get_ordinal_date),\n",
    "        compose.FuncTransformer(get_month)    \n",
    "    ),\n",
    "    compose.Select('ordinal_date','day','month'),\n",
    "    preprocessing.StandardScaler(),\n",
    "    ('lin_reg',linear_model.LinearRegression())\n",
    ")\n",
    "\n",
    "model = preprocessing.TargetStandardScaler(regressor=model)\n",
    "\n",
    "evaluate_model(model,15,5)"
   ]
  },
  {
   "cell_type": "code",
   "execution_count": 1482,
   "metadata": {
    "pycharm": {
     "name": "#%%\n"
    }
   },
   "outputs": [
    {
     "data": {
      "text/plain": [
       "{'ordinal_date': -0.621186674356194,\n",
       " 'day': -0.2032386919819975,\n",
       " 'month': 0.05624687431091594}"
      ]
     },
     "execution_count": 1482,
     "metadata": {},
     "output_type": "execute_result"
    }
   ],
   "source": [
    "model.regressor['lin_reg'].weights"
   ]
  },
  {
   "cell_type": "code",
   "execution_count": 51,
   "metadata": {
    "pycharm": {
     "name": "#%%\n"
    }
   },
   "outputs": [
    {
     "name": "stderr",
     "output_type": "stream",
     "text": [
      "C:\\Users\\giode\\PycharmProjects\\Script_Tesi_new\\venv\\lib\\site-packages\\IPython\\core\\pylabtools.py:151: UserWarning: Glyph 9 (\t) missing from current font.\n",
      "  fig.canvas.print_figure(bytes_io, **kw)\n"
     ]
    },
    {
     "data": {
      "text/plain": "<Figure size 1080x360 with 1 Axes>",
      "image/png": "[encoded data removed]"
     },
     "metadata": {
      "needs_background": "light"
     },
     "output_type": "display_data"
    }
   ],
   "source": [
    "from river import optim\n",
    "\n",
    "\n",
    "X_y = stream.iter_csv(\n",
    "    \"C:\\\\Users\\\\giode\\\\PycharmProjects\\\\Script_Tesi_new\\\\Script\\\\co2_streaming\\\\Project_data_2021_2022 (TRAINSET)(1).csv\",\n",
    "    converters={\n",
    "        'CO': float,\n",
    "        'Hour': int\n",
    "    },\n",
    "    parse_dates={'Date': '%Y-%m-%d'},\n",
    "    target= 'CO',\n",
    "    \n",
    ")\n",
    "\n",
    "\n",
    "def get_ordinal_date(x):\n",
    "    x['ordinal_date'] = x['Date'].toordinal()\n",
    "    x['month'] = x['Date'].month\n",
    "    x['day'] = x['Date'].day\n",
    "\n",
    "    return x\n",
    "\n",
    "def get_month(x):\n",
    "    return {\n",
    "        calendar.month_name[month]: month == x['Date'].month\n",
    "        for month in range(1, 13)\n",
    "    }\n",
    "\n",
    "\n",
    "model = compose.Pipeline(\n",
    "    \n",
    "    compose.TransformerUnion(\n",
    "        compose.FuncTransformer(get_ordinal_date),\n",
    "        compose.FuncTransformer(get_month)    \n",
    "    ),\n",
    "    compose.Select('ordinal_date','day','month'),\n",
    "    preprocessing.StandardScaler(),\n",
    "    ('lin_reg',linear_model.LinearRegression())\n",
    ")\n",
    "\n",
    "evaluate_model(model,15,5)"
   ]
  },
  {
   "cell_type": "code",
   "execution_count": 53,
   "metadata": {
    "pycharm": {
     "name": "#%%\n"
    }
   },
   "outputs": [
    {
     "ename": "TypeError",
     "evalue": "'NoneType' object is not iterable",
     "output_type": "error",
     "traceback": [
      "\u001B[1;31m---------------------------------------------------------------------------\u001B[0m",
      "\u001B[1;31mTypeError\u001B[0m                                 Traceback (most recent call last)",
      "Input \u001B[1;32mIn [53]\u001B[0m, in \u001B[0;36m<cell line: 46>\u001B[1;34m()\u001B[0m\n\u001B[0;32m     44\u001B[0m metric \u001B[38;5;241m=\u001B[39m metrics\u001B[38;5;241m.\u001B[39mRolling(metrics\u001B[38;5;241m.\u001B[39mMAE(), \u001B[38;5;241m12\u001B[39m)\n\u001B[0;32m     46\u001B[0m \u001B[38;5;28;01mfor\u001B[39;00m x, y \u001B[38;5;129;01min\u001B[39;00m dataset:\n\u001B[1;32m---> 47\u001B[0m     y_pred \u001B[38;5;241m=\u001B[39m \u001B[43mmodel\u001B[49m\u001B[38;5;241;43m.\u001B[39;49m\u001B[43mforecast\u001B[49m\u001B[43m(\u001B[49m\u001B[43mhorizon\u001B[49m\u001B[38;5;241;43m=\u001B[39;49m\u001B[38;5;241;43m1\u001B[39;49m\u001B[43m,\u001B[49m\u001B[43m \u001B[49m\u001B[43mxs\u001B[49m\u001B[38;5;241;43m=\u001B[39;49m\u001B[43m[\u001B[49m\u001B[43mx\u001B[49m\u001B[43m]\u001B[49m\u001B[43m)\u001B[49m\n\u001B[0;32m     48\u001B[0m     model \u001B[38;5;241m=\u001B[39m model\u001B[38;5;241m.\u001B[39mlearn_one(x, y)\n\u001B[0;32m     49\u001B[0m     metric \u001B[38;5;241m=\u001B[39m metric\u001B[38;5;241m.\u001B[39mupdate(y, y_pred[\u001B[38;5;241m0\u001B[39m])\n",
      "File \u001B[1;32m~\\PycharmProjects\\Script_Tesi_new\\venv\\lib\\site-packages\\river\\compose\\pipeline.py:626\u001B[0m, in \u001B[0;36mPipeline.forecast\u001B[1;34m(self, horizon, xs)\u001B[0m\n\u001B[0;32m    612\u001B[0m \u001B[38;5;124;03m\"\"\"Return a forecast.\u001B[39;00m\n\u001B[0;32m    613\u001B[0m \n\u001B[0;32m    614\u001B[0m \u001B[38;5;124;03mOnly works if each estimator has a `transform_one` method and the final estimator has a\u001B[39;00m\n\u001B[1;32m   (...)\u001B[0m\n\u001B[0;32m    623\u001B[0m \n\u001B[0;32m    624\u001B[0m \u001B[38;5;124;03m\"\"\"\u001B[39;00m\n\u001B[0;32m    625\u001B[0m \u001B[38;5;28;01mif\u001B[39;00m xs \u001B[38;5;129;01mis\u001B[39;00m \u001B[38;5;129;01mnot\u001B[39;00m \u001B[38;5;28;01mNone\u001B[39;00m:\n\u001B[1;32m--> 626\u001B[0m     xs \u001B[38;5;241m=\u001B[39m [\u001B[38;5;28mself\u001B[39m\u001B[38;5;241m.\u001B[39m_transform_one(x)[\u001B[38;5;241m0\u001B[39m] \u001B[38;5;28;01mfor\u001B[39;00m x \u001B[38;5;129;01min\u001B[39;00m xs]\n\u001B[0;32m    627\u001B[0m \u001B[38;5;28;01mreturn\u001B[39;00m \u001B[38;5;28mself\u001B[39m\u001B[38;5;241m.\u001B[39m_last_step\u001B[38;5;241m.\u001B[39mforecast(horizon\u001B[38;5;241m=\u001B[39mhorizon, xs\u001B[38;5;241m=\u001B[39mxs)\n",
      "File \u001B[1;32m~\\PycharmProjects\\Script_Tesi_new\\venv\\lib\\site-packages\\river\\compose\\pipeline.py:626\u001B[0m, in \u001B[0;36m<listcomp>\u001B[1;34m(.0)\u001B[0m\n\u001B[0;32m    612\u001B[0m \u001B[38;5;124;03m\"\"\"Return a forecast.\u001B[39;00m\n\u001B[0;32m    613\u001B[0m \n\u001B[0;32m    614\u001B[0m \u001B[38;5;124;03mOnly works if each estimator has a `transform_one` method and the final estimator has a\u001B[39;00m\n\u001B[1;32m   (...)\u001B[0m\n\u001B[0;32m    623\u001B[0m \n\u001B[0;32m    624\u001B[0m \u001B[38;5;124;03m\"\"\"\u001B[39;00m\n\u001B[0;32m    625\u001B[0m \u001B[38;5;28;01mif\u001B[39;00m xs \u001B[38;5;129;01mis\u001B[39;00m \u001B[38;5;129;01mnot\u001B[39;00m \u001B[38;5;28;01mNone\u001B[39;00m:\n\u001B[1;32m--> 626\u001B[0m     xs \u001B[38;5;241m=\u001B[39m [\u001B[38;5;28;43mself\u001B[39;49m\u001B[38;5;241;43m.\u001B[39;49m\u001B[43m_transform_one\u001B[49m\u001B[43m(\u001B[49m\u001B[43mx\u001B[49m\u001B[43m)\u001B[49m[\u001B[38;5;241m0\u001B[39m] \u001B[38;5;28;01mfor\u001B[39;00m x \u001B[38;5;129;01min\u001B[39;00m xs]\n\u001B[0;32m    627\u001B[0m \u001B[38;5;28;01mreturn\u001B[39;00m \u001B[38;5;28mself\u001B[39m\u001B[38;5;241m.\u001B[39m_last_step\u001B[38;5;241m.\u001B[39mforecast(horizon\u001B[38;5;241m=\u001B[39mhorizon, xs\u001B[38;5;241m=\u001B[39mxs)\n",
      "File \u001B[1;32m~\\PycharmProjects\\Script_Tesi_new\\venv\\lib\\site-packages\\river\\compose\\pipeline.py:555\u001B[0m, in \u001B[0;36mPipeline._transform_one\u001B[1;34m(self, x)\u001B[0m\n\u001B[0;32m    552\u001B[0m         \u001B[38;5;28;01melif\u001B[39;00m \u001B[38;5;129;01mnot\u001B[39;00m t\u001B[38;5;241m.\u001B[39m_supervised:\n\u001B[0;32m    553\u001B[0m             t\u001B[38;5;241m.\u001B[39mlearn_one(x)\n\u001B[1;32m--> 555\u001B[0m     x \u001B[38;5;241m=\u001B[39m \u001B[43mt\u001B[49m\u001B[38;5;241;43m.\u001B[39;49m\u001B[43mtransform_one\u001B[49m\u001B[43m(\u001B[49m\u001B[43mx\u001B[49m\u001B[43m)\u001B[49m\n\u001B[0;32m    557\u001B[0m last_step \u001B[38;5;241m=\u001B[39m \u001B[38;5;28mnext\u001B[39m(steps)\n\u001B[0;32m    558\u001B[0m \u001B[38;5;28;01mreturn\u001B[39;00m x, last_step\n",
      "File \u001B[1;32m~\\PycharmProjects\\Script_Tesi_new\\venv\\lib\\site-packages\\river\\compose\\union.py:265\u001B[0m, in \u001B[0;36mTransformerUnion.transform_one\u001B[1;34m(self, x)\u001B[0m\n\u001B[0;32m    263\u001B[0m \u001B[38;5;28;01mdef\u001B[39;00m \u001B[38;5;21mtransform_one\u001B[39m(\u001B[38;5;28mself\u001B[39m, x):\n\u001B[0;32m    264\u001B[0m     \u001B[38;5;124;03m\"\"\"Passes the data through each transformer and packs the results together.\"\"\"\u001B[39;00m\n\u001B[1;32m--> 265\u001B[0m     \u001B[38;5;28;01mreturn\u001B[39;00m \u001B[38;5;28;43mdict\u001B[39;49m\u001B[43m(\u001B[49m\n\u001B[0;32m    266\u001B[0m \u001B[43m        \u001B[49m\u001B[43mcollections\u001B[49m\u001B[38;5;241;43m.\u001B[39;49m\u001B[43mChainMap\u001B[49m\u001B[43m(\u001B[49m\n\u001B[0;32m    267\u001B[0m \u001B[43m            \u001B[49m\u001B[38;5;241;43m*\u001B[39;49m\u001B[43m(\u001B[49m\u001B[43mt\u001B[49m\u001B[38;5;241;43m.\u001B[39;49m\u001B[43mtransform_one\u001B[49m\u001B[43m(\u001B[49m\u001B[43mx\u001B[49m\u001B[43m)\u001B[49m\u001B[43m \u001B[49m\u001B[38;5;28;43;01mfor\u001B[39;49;00m\u001B[43m \u001B[49m\u001B[43mt\u001B[49m\u001B[43m \u001B[49m\u001B[38;5;129;43;01min\u001B[39;49;00m\u001B[43m \u001B[49m\u001B[38;5;28;43mself\u001B[39;49m\u001B[38;5;241;43m.\u001B[39;49m\u001B[43mtransformers\u001B[49m\u001B[38;5;241;43m.\u001B[39;49m\u001B[43mvalues\u001B[49m\u001B[43m(\u001B[49m\u001B[43m)\u001B[49m\u001B[43m)\u001B[49m\n\u001B[0;32m    268\u001B[0m \u001B[43m        \u001B[49m\u001B[43m)\u001B[49m\n\u001B[0;32m    269\u001B[0m \u001B[43m    \u001B[49m\u001B[43m)\u001B[49m\n",
      "File \u001B[1;32m~\\AppData\\Local\\Programs\\Python\\Python39\\lib\\_collections_abc.py:825\u001B[0m, in \u001B[0;36mKeysView.__iter__\u001B[1;34m(self)\u001B[0m\n\u001B[0;32m    824\u001B[0m \u001B[38;5;28;01mdef\u001B[39;00m \u001B[38;5;21m__iter__\u001B[39m(\u001B[38;5;28mself\u001B[39m):\n\u001B[1;32m--> 825\u001B[0m     \u001B[38;5;28;01myield from\u001B[39;00m \u001B[38;5;28mself\u001B[39m\u001B[38;5;241m.\u001B[39m_mapping\n",
      "File \u001B[1;32m~\\AppData\\Local\\Programs\\Python\\Python39\\lib\\collections\\__init__.py:952\u001B[0m, in \u001B[0;36mChainMap.__iter__\u001B[1;34m(self)\u001B[0m\n\u001B[0;32m    950\u001B[0m d \u001B[38;5;241m=\u001B[39m {}\n\u001B[0;32m    951\u001B[0m \u001B[38;5;28;01mfor\u001B[39;00m mapping \u001B[38;5;129;01min\u001B[39;00m \u001B[38;5;28mreversed\u001B[39m(\u001B[38;5;28mself\u001B[39m\u001B[38;5;241m.\u001B[39mmaps):\n\u001B[1;32m--> 952\u001B[0m     d\u001B[38;5;241m.\u001B[39mupdate(\u001B[38;5;28;43mdict\u001B[39;49m\u001B[38;5;241;43m.\u001B[39;49m\u001B[43mfromkeys\u001B[49m\u001B[43m(\u001B[49m\u001B[43mmapping\u001B[49m\u001B[43m)\u001B[49m)    \u001B[38;5;66;03m# reuses stored hash values if possible\u001B[39;00m\n\u001B[0;32m    953\u001B[0m \u001B[38;5;28;01mreturn\u001B[39;00m \u001B[38;5;28miter\u001B[39m(d)\n",
      "\u001B[1;31mTypeError\u001B[0m: 'NoneType' object is not iterable"
     ]
    }
   ],
   "source": [
    "from river import datasets\n",
    "from river import metrics\n",
    "from river import time_series\n",
    "\n",
    "\n",
    "dataset = stream.iter_csv(\n",
    "    \"C:\\\\Users\\\\giode\\\\PycharmProjects\\\\Script_Tesi_new\\\\Script\\\\co2_streaming\\\\Project_data_2021_2022 (TRAINSET)(1).csv\",\n",
    "    converters={\n",
    "        'CO': float,\n",
    "        'Hour': int\n",
    "    },\n",
    "    parse_dates={'Date': '%Y-%m-%d'},\n",
    "    target= 'CO',\n",
    "    \n",
    ")\n",
    "\n",
    "\n",
    "def get_ordinal_date(x):\n",
    "    x['ordinal_date'] = x['Date'].toordinal()\n",
    "    x['month'] = x['Date'].month\n",
    "    x['day'] = x['Date'].day\n",
    "\n",
    "extract_features = compose.TransformerUnion(\n",
    "    get_ordinal_date\n",
    ")\n",
    "\n",
    "model = (\n",
    "    extract_features |\n",
    "    compose.Select('ordinal_date','day','month')|\n",
    "    time_series.SNARIMAX(\n",
    "        p=0,\n",
    "        d=0,\n",
    "        q=0,\n",
    "        m=12,\n",
    "        sp=3,\n",
    "        sq=6,\n",
    "        regressor=(\n",
    "            preprocessing.StandardScaler() |\n",
    "            linear_model.LinearRegression()\n",
    "        )\n",
    "    )\n",
    ")\n",
    "\n",
    "metric = metrics.Rolling(metrics.MAE(), 12)\n",
    "\n",
    "for x, y in dataset:\n",
    "    y_pred = model.forecast(horizon=1, xs=[x])\n",
    "    model = model.learn_one(x, y)\n",
    "    metric = metric.update(y, y_pred[0])\n",
    "\n",
    "\n"
   ]
  },
  {
   "cell_type": "code",
   "execution_count": 56,
   "metadata": {
    "pycharm": {
     "name": "#%%\n"
    }
   },
   "outputs": [
    {
     "data": {
      "text/plain": "            Date  Hour      CO\n0     2004-03-10    18  1360.0\n1     2004-03-10    19  1292.0\n2     2004-03-10    20  1402.0\n3     2004-03-10    21  1376.0\n4     2004-03-10    22  1272.0\n...          ...   ...     ...\n8521  2005-02-28    19   938.0\n8522  2005-02-28    20   939.0\n8523  2005-02-28    21   827.0\n8524  2005-02-28    22   776.0\n8525  2005-02-28    23   755.0\n\n[8526 rows x 3 columns]",
      "text/html": "<div>\n<style scoped>\n    .dataframe tbody tr th:only-of-type {\n        vertical-align: middle;\n    }\n\n    .dataframe tbody tr th {\n        vertical-align: top;\n    }\n\n    .dataframe thead th {\n        text-align: right;\n    }\n</style>\n<table border=\"1\" class=\"dataframe\">\n  <thead>\n    <tr style=\"text-align: right;\">\n      <th></th>\n      <th>Date</th>\n      <th>Hour</th>\n      <th>CO</th>\n    </tr>\n  </thead>\n  <tbody>\n    <tr>\n      <th>0</th>\n      <td>2004-03-10</td>\n      <td>18</td>\n      <td>1360.0</td>\n    </tr>\n    <tr>\n      <th>1</th>\n      <td>2004-03-10</td>\n      <td>19</td>\n      <td>1292.0</td>\n    </tr>\n    <tr>\n      <th>2</th>\n      <td>2004-03-10</td>\n      <td>20</td>\n      <td>1402.0</td>\n    </tr>\n    <tr>\n      <th>3</th>\n      <td>2004-03-10</td>\n      <td>21</td>\n      <td>1376.0</td>\n    </tr>\n    <tr>\n      <th>4</th>\n      <td>2004-03-10</td>\n      <td>22</td>\n      <td>1272.0</td>\n    </tr>\n    <tr>\n      <th>...</th>\n      <td>...</td>\n      <td>...</td>\n      <td>...</td>\n    </tr>\n    <tr>\n      <th>8521</th>\n      <td>2005-02-28</td>\n      <td>19</td>\n      <td>938.0</td>\n    </tr>\n    <tr>\n      <th>8522</th>\n      <td>2005-02-28</td>\n      <td>20</td>\n      <td>939.0</td>\n    </tr>\n    <tr>\n      <th>8523</th>\n      <td>2005-02-28</td>\n      <td>21</td>\n      <td>827.0</td>\n    </tr>\n    <tr>\n      <th>8524</th>\n      <td>2005-02-28</td>\n      <td>22</td>\n      <td>776.0</td>\n    </tr>\n    <tr>\n      <th>8525</th>\n      <td>2005-02-28</td>\n      <td>23</td>\n      <td>755.0</td>\n    </tr>\n  </tbody>\n</table>\n<p>8526 rows × 3 columns</p>\n</div>"
     },
     "execution_count": 56,
     "metadata": {},
     "output_type": "execute_result"
    }
   ],
   "source": [
    "from river import stream\n",
    "\n",
    "dataset = stream.iter_csv(\"C:\\\\Users\\\\giode\\\\PycharmProjects\\\\Script_Tesi_new\\\\Script\\\\co2_streaming\\\\Project_data_2021_2022 (TRAINSET)(1).csv\")\n",
    "dataset_stream = pd.read_csv(\"C:\\\\Users\\\\giode\\\\PycharmProjects\\\\Script_Tesi_new\\\\Script\\\\co2_streaming\\\\Project_data_2021_2022 (TRAINSET)(1).csv\")\n",
    "dataset_stream \n"
   ]
  },
  {
   "cell_type": "code",
   "execution_count": 57,
   "metadata": {
    "pycharm": {
     "name": "#%%\n"
    }
   },
   "outputs": [],
   "source": [
    "import numpy as np\n",
    "import matplotlib.pyplot as plt\n",
    "from matplotlib import gridspec\n",
    "\n",
    "def plot_data(drifts=None):\n",
    "    fig = plt.figure(figsize=(7,3), tight_layout=True)\n",
    "    gs = gridspec.GridSpec(1, 2, width_ratios=[3, 1])\n",
    "    ax1, ax2 = plt.subplot(gs[0]), plt.subplot(gs[1])\n",
    "    ax1.grid()\n",
    "    ax1.plot(dataset_stream['CO'], label='Stream')\n",
    "    ax2.grid(axis='y')\n",
    "    if drifts is not None:\n",
    "        for drift_detected in drifts:\n",
    "            ax1.axvline(drift_detected, color='red')\n",
    "    plt.show()"
   ]
  },
  {
   "cell_type": "code",
   "execution_count": 59,
   "metadata": {
    "pycharm": {
     "name": "#%%\n"
    }
   },
   "outputs": [
    {
     "name": "stdout",
     "output_type": "stream",
     "text": [
      "Change detected at index {'Date': datetime.datetime(2004, 3, 25, 0, 0), 'Hour': 9}\n",
      "Change detected at index {'Date': datetime.datetime(2004, 4, 2, 0, 0), 'Hour': 9}\n",
      "Change detected at index {'Date': datetime.datetime(2004, 4, 10, 0, 0), 'Hour': 9}\n",
      "Change detected at index {'Date': datetime.datetime(2004, 4, 15, 0, 0), 'Hour': 17}\n",
      "Change detected at index {'Date': datetime.datetime(2004, 4, 21, 0, 0), 'Hour': 1}\n",
      "Change detected at index {'Date': datetime.datetime(2004, 4, 27, 0, 0), 'Hour': 17}\n",
      "Change detected at index {'Date': datetime.datetime(2004, 5, 4, 0, 0), 'Hour': 9}\n",
      "Change detected at index {'Date': datetime.datetime(2004, 5, 23, 0, 0), 'Hour': 1}\n",
      "Change detected at index {'Date': datetime.datetime(2004, 5, 27, 0, 0), 'Hour': 1}\n",
      "Change detected at index {'Date': datetime.datetime(2004, 5, 31, 0, 0), 'Hour': 1}\n",
      "Change detected at index {'Date': datetime.datetime(2004, 6, 6, 0, 0), 'Hour': 17}\n",
      "Change detected at index {'Date': datetime.datetime(2004, 6, 20, 0, 0), 'Hour': 1}\n",
      "Change detected at index {'Date': datetime.datetime(2004, 6, 25, 0, 0), 'Hour': 9}\n",
      "Change detected at index {'Date': datetime.datetime(2004, 6, 30, 0, 0), 'Hour': 17}\n",
      "Change detected at index {'Date': datetime.datetime(2004, 7, 6, 0, 0), 'Hour': 1}\n",
      "Change detected at index {'Date': datetime.datetime(2004, 7, 11, 0, 0), 'Hour': 9}\n",
      "Change detected at index {'Date': datetime.datetime(2004, 7, 20, 0, 0), 'Hour': 17}\n",
      "Change detected at index {'Date': datetime.datetime(2004, 7, 26, 0, 0), 'Hour': 1}\n",
      "Change detected at index {'Date': datetime.datetime(2004, 8, 4, 0, 0), 'Hour': 9}\n",
      "Change detected at index {'Date': datetime.datetime(2004, 8, 12, 0, 0), 'Hour': 9}\n",
      "Change detected at index {'Date': datetime.datetime(2004, 8, 16, 0, 0), 'Hour': 9}\n",
      "Change detected at index {'Date': datetime.datetime(2004, 8, 23, 0, 0), 'Hour': 1}\n",
      "Change detected at index {'Date': datetime.datetime(2004, 8, 29, 0, 0), 'Hour': 17}\n",
      "Change detected at index {'Date': datetime.datetime(2004, 9, 14, 0, 0), 'Hour': 17}\n",
      "Change detected at index {'Date': datetime.datetime(2004, 9, 20, 0, 0), 'Hour': 1}\n",
      "Change detected at index {'Date': datetime.datetime(2004, 9, 26, 0, 0), 'Hour': 17}\n",
      "Change detected at index {'Date': datetime.datetime(2004, 10, 2, 0, 0), 'Hour': 1}\n",
      "Change detected at index {'Date': datetime.datetime(2004, 10, 14, 0, 0), 'Hour': 1}\n",
      "Change detected at index {'Date': datetime.datetime(2004, 10, 20, 0, 0), 'Hour': 17}\n",
      "Change detected at index {'Date': datetime.datetime(2004, 11, 9, 0, 0), 'Hour': 17}\n",
      "Change detected at index {'Date': datetime.datetime(2004, 11, 15, 0, 0), 'Hour': 1}\n",
      "Change detected at index {'Date': datetime.datetime(2004, 11, 19, 0, 0), 'Hour': 1}\n",
      "Change detected at index {'Date': datetime.datetime(2004, 11, 24, 0, 0), 'Hour': 9}\n",
      "Change detected at index {'Date': datetime.datetime(2004, 12, 1, 0, 0), 'Hour': 1}\n",
      "Change detected at index {'Date': datetime.datetime(2004, 12, 6, 0, 0), 'Hour': 9}\n",
      "Change detected at index {'Date': datetime.datetime(2004, 12, 11, 0, 0), 'Hour': 17}\n",
      "Change detected at index {'Date': datetime.datetime(2004, 12, 15, 0, 0), 'Hour': 17}\n",
      "Change detected at index {'Date': datetime.datetime(2004, 12, 17, 0, 0), 'Hour': 1}\n",
      "Change detected at index {'Date': datetime.datetime(2004, 12, 19, 0, 0), 'Hour': 17}\n",
      "Change detected at index {'Date': datetime.datetime(2004, 12, 25, 0, 0), 'Hour': 1}\n",
      "Change detected at index {'Date': datetime.datetime(2004, 12, 27, 0, 0), 'Hour': 17}\n",
      "Change detected at index {'Date': datetime.datetime(2005, 1, 2, 0, 0), 'Hour': 1}\n",
      "Change detected at index {'Date': datetime.datetime(2005, 1, 3, 0, 0), 'Hour': 9}\n",
      "Change detected at index {'Date': datetime.datetime(2005, 1, 4, 0, 0), 'Hour': 17}\n",
      "Change detected at index {'Date': datetime.datetime(2005, 1, 7, 0, 0), 'Hour': 9}\n",
      "Change detected at index {'Date': datetime.datetime(2005, 1, 20, 0, 0), 'Hour': 17}\n",
      "Change detected at index {'Date': datetime.datetime(2005, 1, 26, 0, 0), 'Hour': 1}\n",
      "Change detected at index {'Date': datetime.datetime(2005, 2, 1, 0, 0), 'Hour': 17}\n",
      "Change detected at index {'Date': datetime.datetime(2005, 2, 8, 0, 0), 'Hour': 9}\n",
      "Change detected at index {'Date': datetime.datetime(2005, 2, 11, 0, 0), 'Hour': 1}\n",
      "Change detected at index {'Date': datetime.datetime(2005, 2, 13, 0, 0), 'Hour': 17}\n",
      "Change detected at index {'Date': datetime.datetime(2005, 2, 19, 0, 0), 'Hour': 1}\n"
     ]
    },
    {
     "data": {
      "text/plain": "<Figure size 504x216 with 2 Axes>",
      "image/png": "[encoded data removed]"
     },
     "metadata": {
      "needs_background": "light"
     },
     "output_type": "display_data"
    }
   ],
   "source": [
    "from river import drift\n",
    "\n",
    "\n",
    "dataset = stream.iter_csv(\n",
    "    \"C:\\\\Users\\\\giode\\\\PycharmProjects\\\\Script_Tesi_new\\\\Script\\\\co2_streaming\\\\Project_data_2021_2022 (TRAINSET)(1).csv\",\n",
    "    converters={\n",
    "        'CO': float,\n",
    "        'Hour': int\n",
    "    },\n",
    "    parse_dates={'Date': '%Y-%m-%d'},\n",
    "    target= 'CO',\n",
    "    \n",
    ")\n",
    "\n",
    "dataset = stream.iter_csv(\n",
    "    \"C:\\\\Users\\\\giode\\\\PycharmProjects\\\\Script_Tesi_new\\\\Script\\\\co2_streaming\\\\Project_data_2021_2022 (TRAINSET)(1).csv\",\n",
    "    converters={\n",
    "        'CO': float,\n",
    "        'Hour': int\n",
    "    },\n",
    "    parse_dates={'Date': '%Y-%m-%d'},\n",
    "    target= 'CO',\n",
    "    \n",
    ")\n",
    "\n",
    "\n",
    "drift_detector = drift.ADWIN()\n",
    "drifts = []\n",
    "a = 0\n",
    "for i, val in dataset:\n",
    "    a +=1\n",
    "    drift_detector.update(val)   # Data is processed one sample at a time\n",
    "    if drift_detector.change_detected:\n",
    "        # The drift detector indicates after each sample if there is a drift in the data\n",
    "        print(f'Change detected at index {i}')\n",
    "        drifts.append(a)\n",
    "        drift_detector.reset()   # As a best practice, we reset the detector\n",
    "\n",
    "plot_data(drifts)"
   ]
  }
 ],
 "metadata": {
  "interpreter": {
   "hash": "59f5992ab00c558a84279d33bb134f8aa55f204103f96d48d70e349812082309"
  },
  "kernelspec": {
   "display_name": "Python 3.9.7 ('river')",
   "language": "python",
   "name": "python3"
  },
  "language_info": {
   "codemirror_mode": {
    "name": "ipython",
    "version": 3
   },
   "file_extension": ".py",
   "mimetype": "text/x-python",
   "name": "python",
   "nbconvert_exporter": "python",
   "pygments_lexer": "ipython3",
   "version": "3.9.7"
  },
  "orig_nbformat": 4
 },
 "nbformat": 4,
 "nbformat_minor": 2
}