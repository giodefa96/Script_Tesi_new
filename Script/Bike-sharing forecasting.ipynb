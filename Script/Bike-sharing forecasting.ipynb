{
 "cells": [
  {
   "cell_type": "code",
   "execution_count": 1,
   "metadata": {
    "pycharm": {
     "name": "#%%\n"
    }
   },
   "outputs": [
    {
     "ename": "ModuleNotFoundError",
     "evalue": "No module named 'river'",
     "output_type": "error",
     "traceback": [
      "\u001B[1;31m---------------------------------------------------------------------------\u001B[0m",
      "\u001B[1;31mModuleNotFoundError\u001B[0m                       Traceback (most recent call last)",
      "Input \u001B[1;32mIn [1]\u001B[0m, in \u001B[0;36m<cell line: 2>\u001B[1;34m()\u001B[0m\n\u001B[0;32m      1\u001B[0m \u001B[38;5;28;01mfrom\u001B[39;00m \u001B[38;5;21;01mpprint\u001B[39;00m \u001B[38;5;28;01mimport\u001B[39;00m pprint\n\u001B[1;32m----> 2\u001B[0m \u001B[38;5;28;01mfrom\u001B[39;00m \u001B[38;5;21;01mriver\u001B[39;00m \u001B[38;5;28;01mimport\u001B[39;00m datasets\n\u001B[0;32m      4\u001B[0m X_y \u001B[38;5;241m=\u001B[39m datasets\u001B[38;5;241m.\u001B[39mBikes()\n\u001B[0;32m      6\u001B[0m \u001B[38;5;28;01mfor\u001B[39;00m x, y \u001B[38;5;129;01min\u001B[39;00m X_y:\n",
      "\u001B[1;31mModuleNotFoundError\u001B[0m: No module named 'river'"
     ]
    }
   ],
   "source": [
    "from pprint import pprint\n",
    "from river import datasets\n",
    "\n",
    "X_y = datasets.Bikes()\n",
    "\n",
    "for x, y in X_y:\n",
    "    pprint(x)\n",
    "    print(f'Number of available bikes: {y}')\n",
    "    break\n",
    "\n"
   ]
  },
  {
   "cell_type": "code",
   "execution_count": 2,
   "metadata": {
    "pycharm": {
     "name": "#%%\n"
    }
   },
   "outputs": [
    {
     "name": "stdout",
     "output_type": "stream",
     "text": [
      "[20,000] MAE: 4.912727\n",
      "[40,000] MAE: 5.333554\n",
      "[60,000] MAE: 5.330948\n",
      "[80,000] MAE: 5.392313\n",
      "[100,000] MAE: 5.423059\n",
      "[120,000] MAE: 5.541223\n",
      "[140,000] MAE: 5.613023\n",
      "[160,000] MAE: 5.622428\n",
      "[180,000] MAE: 5.567824\n"
     ]
    },
    {
     "data": {
      "text/plain": [
       "MAE: 5.563893"
      ]
     },
     "execution_count": 2,
     "metadata": {},
     "output_type": "execute_result"
    }
   ],
   "source": [
    "from river import compose\n",
    "from river import linear_model\n",
    "from river import metrics\n",
    "from river import evaluate\n",
    "from river import preprocessing\n",
    "from river import optim\n",
    "\n",
    "X_y = datasets.Bikes()\n",
    "\n",
    "\n",
    "model = compose.Select('clouds', 'humidity', 'pressure', 'temperature', 'wind')\n",
    "model |= preprocessing.StandardScaler()\n",
    "model |= linear_model.LinearRegression(optimizer=optim.SGD(0.001))\n",
    "\n",
    "metric = metrics.MAE()\n",
    "\n",
    "evaluate.progressive_val_score(X_y, model, metric, print_every=20_000)\n",
    "\n",
    "\n"
   ]
  },
  {
   "cell_type": "markdown",
   "metadata": {
    "pycharm": {
     "name": "#%% md\n"
    }
   },
   "source": [
    "Possiamo vedere il pessimo risultato, questo anche perchè non abbiamo fornito abbastanza features! Quindi possiamo pensare di estrarre features per esempio, Possiamo magari estrapolare il numero medio di biciclette per ora, quindi dobbiamo estrarre l'ora dalla colonna `moment` e usare il metodo `TargetAgg` per aggregare i valori per ora"
   ]
  },
  {
   "cell_type": "markdown",
   "metadata": {
    "pycharm": {
     "name": "#%% md\n"
    }
   },
   "source": [
    "Quindi cosa viene fatto? Abbiamo che vengono selezionate le colonne interessate dalla regressione, poi viene applicata la funzione get_hour, che dato il nostro dataset ci ridà le informazioni dell'ora della colonna moment, che era la colonna della data, quindi creiamo una feature, aggregando il valore del target per stazione e ora, e ci facciamo la media!"
   ]
  },
  {
   "cell_type": "code",
   "execution_count": 3,
   "metadata": {
    "pycharm": {
     "name": "#%%\n"
    }
   },
   "outputs": [
    {
     "name": "stdout",
     "output_type": "stream",
     "text": [
      "[20,000] MAE: 3.721246\n",
      "[40,000] MAE: 3.829972\n",
      "[60,000] MAE: 3.845068\n",
      "[80,000] MAE: 3.910259\n",
      "[100,000] MAE: 3.888652\n",
      "[120,000] MAE: 3.923727\n",
      "[140,000] MAE: 3.980953\n",
      "[160,000] MAE: 3.950034\n",
      "[180,000] MAE: 3.934545\n"
     ]
    },
    {
     "data": {
      "text/plain": [
       "MAE: 3.933498"
      ]
     },
     "execution_count": 3,
     "metadata": {},
     "output_type": "execute_result"
    }
   ],
   "source": [
    "from river import feature_extraction\n",
    "from river import stats\n",
    "\n",
    "X_y = iter(datasets.Bikes())\n",
    "\n",
    "def get_hour(x):\n",
    "    x['hour'] = x['moment'].hour\n",
    "    return x\n",
    "\n",
    "model = compose.Select('clouds', 'humidity', 'pressure', 'temperature', 'wind')\n",
    "model += (\n",
    "    get_hour |\n",
    "    feature_extraction.TargetAgg(by=['station', 'hour'], how = stats.Mean())\n",
    ")\n",
    "model |= preprocessing.StandardScaler()\n",
    "model |= linear_model.LinearRegression(optimizer=optim.SGD(0.001))\n",
    "\n",
    "metric = metrics.MAE()\n",
    "\n",
    "evaluate.progressive_val_score(X_y, model,metric, print_every=20_000)"
   ]
  },
  {
   "cell_type": "code",
   "execution_count": 4,
   "metadata": {
    "pycharm": {
     "name": "#%%\n"
    }
   },
   "outputs": [
    {
     "data": {
      "text/html": [
       "<div><div class=\"component pipeline\"><div class=\"component union\"><details class=\"component estimator\"><summary><pre class=\"estimator-name\">['clouds', 'humidity', 'pressure', 'temperature', 'wind']</pre></summary><code class=\"estimator-params\">\n",
       "{'keys': {'wind', 'temperature', 'clouds', 'pressure', 'humidity'}}\n",
       "\n",
       "</code></details><div class=\"component pipeline\"><details class=\"component estimator\"><summary><pre class=\"estimator-name\">get_hour</pre></summary><code class=\"estimator-params\">\n",
       "def get_hour(x):\n",
       "    x['hour'] = x['moment'].hour\n",
       "    return x\n",
       "\n",
       "</code></details><details class=\"component estimator\"><summary><pre class=\"estimator-name\">y_mean_by_station_and_hour</pre></summary><code class=\"estimator-params\">\n",
       "{'_feature_name': 'y_mean_by_station_and_hour',\n",
       " '_groups': defaultdict(functools.partial(&lt;function deepcopy at 0x7fcfd8fed280&gt;, Mean: 0.),\n",
       "                        {('metro-canal-du-midi', 0): Mean: 7.93981,\n",
       "                         ('metro-canal-du-midi', 1): Mean: 8.179704,\n",
       "                         ('metro-canal-du-midi', 2): Mean: 8.35824,\n",
       "                         ('metro-canal-du-midi', 3): Mean: 8.656051,\n",
       "                         ('metro-canal-du-midi', 4): Mean: 8.868445,\n",
       "                         ('metro-canal-du-midi', 5): Mean: 8.99656,\n",
       "                         ('metro-canal-du-midi', 6): Mean: 9.09966,\n",
       "                         ('metro-canal-du-midi', 7): Mean: 8.852642,\n",
       "                         ('metro-canal-du-midi', 8): Mean: 12.66712,\n",
       "                         ('metro-canal-du-midi', 9): Mean: 13.412186,\n",
       "                         ('metro-canal-du-midi', 10): Mean: 12.486815,\n",
       "                         ('metro-canal-du-midi', 11): Mean: 11.675479,\n",
       "                         ('metro-canal-du-midi', 12): Mean: 10.197409,\n",
       "                         ('metro-canal-du-midi', 13): Mean: 10.650855,\n",
       "                         ('metro-canal-du-midi', 14): Mean: 11.109123,\n",
       "                         ('metro-canal-du-midi', 15): Mean: 11.068934,\n",
       "                         ('metro-canal-du-midi', 16): Mean: 11.274958,\n",
       "                         ('metro-canal-du-midi', 17): Mean: 8.459136,\n",
       "                         ('metro-canal-du-midi', 18): Mean: 7.587469,\n",
       "                         ('metro-canal-du-midi', 19): Mean: 7.734677,\n",
       "                         ('metro-canal-du-midi', 20): Mean: 7.582465,\n",
       "                         ('metro-canal-du-midi', 21): Mean: 7.190665,\n",
       "                         ('metro-canal-du-midi', 22): Mean: 7.486895,\n",
       "                         ('metro-canal-du-midi', 23): Mean: 7.840791,\n",
       "                         ('place-des-carmes', 0): Mean: 4.720696,\n",
       "                         ('place-des-carmes', 1): Mean: 3.390295,\n",
       "                         ('place-des-carmes', 2): Mean: 2.232181,\n",
       "                         ('place-des-carmes', 3): Mean: 1.371981,\n",
       "                         ('place-des-carmes', 4): Mean: 1.051665,\n",
       "                         ('place-des-carmes', 5): Mean: 0.984993,\n",
       "                         ('place-des-carmes', 6): Mean: 2.039947,\n",
       "                         ('place-des-carmes', 7): Mean: 3.850369,\n",
       "                         ('place-des-carmes', 8): Mean: 3.792624,\n",
       "                         ('place-des-carmes', 9): Mean: 5.957182,\n",
       "                         ('place-des-carmes', 10): Mean: 8.575303,\n",
       "                         ('place-des-carmes', 11): Mean: 9.321546,\n",
       "                         ('place-des-carmes', 12): Mean: 10.511931,\n",
       "                         ('place-des-carmes', 13): Mean: 11.392745,\n",
       "                         ('place-des-carmes', 14): Mean: 10.735003,\n",
       "                         ('place-des-carmes', 15): Mean: 10.198787,\n",
       "                         ('place-des-carmes', 16): Mean: 9.941479,\n",
       "                         ('place-des-carmes', 17): Mean: 9.125579,\n",
       "                         ('place-des-carmes', 18): Mean: 7.660775,\n",
       "                         ('place-des-carmes', 19): Mean: 6.847649,\n",
       "                         ('place-des-carmes', 20): Mean: 9.626876,\n",
       "                         ('place-des-carmes', 21): Mean: 11.602929,\n",
       "                         ('place-des-carmes', 22): Mean: 10.405537,\n",
       "                         ('place-des-carmes', 23): Mean: 7.700904,\n",
       "                         ('place-esquirol', 0): Mean: 7.415789,\n",
       "                         ('place-esquirol', 1): Mean: 5.244396,\n",
       "                         ('place-esquirol', 2): Mean: 2.858635,\n",
       "                         ('place-esquirol', 3): Mean: 1.155929,\n",
       "                         ('place-esquirol', 4): Mean: 0.73306,\n",
       "                         ('place-esquirol', 5): Mean: 0.668546,\n",
       "                         ('place-esquirol', 6): Mean: 1.21265,\n",
       "                         ('place-esquirol', 7): Mean: 3.107535,\n",
       "                         ('place-esquirol', 8): Mean: 8.518696,\n",
       "                         ('place-esquirol', 9): Mean: 15.470588,\n",
       "                         ('place-esquirol', 10): Mean: 19.465005,\n",
       "                         ('place-esquirol', 11): Mean: 22.976512,\n",
       "                         ('place-esquirol', 12): Mean: 25.324159,\n",
       "                         ('place-esquirol', 13): Mean: 25.428847,\n",
       "                         ('place-esquirol', 14): Mean: 24.57762,\n",
       "                         ('place-esquirol', 15): Mean: 24.416851,\n",
       "                         ('place-esquirol', 16): Mean: 23.555125,\n",
       "                         ('place-esquirol', 17): Mean: 22.062564,\n",
       "                         ('place-esquirol', 18): Mean: 18.10623,\n",
       "                         ('place-esquirol', 19): Mean: 11.916638,\n",
       "                         ('place-esquirol', 20): Mean: 13.346362,\n",
       "                         ('place-esquirol', 21): Mean: 16.743318,\n",
       "                         ('place-esquirol', 22): Mean: 15.562088,\n",
       "                         ('place-esquirol', 23): Mean: 10.911134,\n",
       "                         ('place-jeanne-darc', 0): Mean: 6.541667,\n",
       "                         ('place-jeanne-darc', 1): Mean: 5.99892,\n",
       "                         ('place-jeanne-darc', 2): Mean: 5.598169,\n",
       "                         ('place-jeanne-darc', 3): Mean: 5.180556,\n",
       "                         ('place-jeanne-darc', 4): Mean: 4.779626,\n",
       "                         ('place-jeanne-darc', 5): Mean: 4.67063,\n",
       "                         ('place-jeanne-darc', 6): Mean: 4.611995,\n",
       "                         ('place-jeanne-darc', 7): Mean: 4.960718,\n",
       "                         ('place-jeanne-darc', 8): Mean: 5.552273,\n",
       "                         ('place-jeanne-darc', 9): Mean: 6.249573,\n",
       "                         ('place-jeanne-darc', 10): Mean: 5.735553,\n",
       "                         ('place-jeanne-darc', 11): Mean: 5.616142,\n",
       "                         ('place-jeanne-darc', 12): Mean: 5.787478,\n",
       "                         ('place-jeanne-darc', 13): Mean: 5.817699,\n",
       "                         ('place-jeanne-darc', 14): Mean: 5.657546,\n",
       "                         ('place-jeanne-darc', 15): Mean: 6.224604,\n",
       "                         ('place-jeanne-darc', 16): Mean: 5.796141,\n",
       "                         ('place-jeanne-darc', 17): Mean: 5.743089,\n",
       "                         ('place-jeanne-darc', 18): Mean: 5.674784,\n",
       "                         ('place-jeanne-darc', 19): Mean: 5.833068,\n",
       "                         ('place-jeanne-darc', 20): Mean: 6.015755,\n",
       "                         ('place-jeanne-darc', 21): Mean: 6.242541,\n",
       "                         ('place-jeanne-darc', 22): Mean: 6.141509,\n",
       "                         ('place-jeanne-darc', 23): Mean: 6.493028,\n",
       "                         ('pomme', 0): Mean: 3.301532,\n",
       "                         ('pomme', 1): Mean: 2.312914,\n",
       "                         ('pomme', 2): Mean: 2.144453,\n",
       "                         ('pomme', 3): Mean: 1.563622,\n",
       "                         ('pomme', 4): Mean: 0.947328,\n",
       "                         ('pomme', 5): Mean: 0.924175,\n",
       "                         ('pomme', 6): Mean: 1.287805,\n",
       "                         ('pomme', 7): Mean: 1.299456,\n",
       "                         ('pomme', 8): Mean: 2.94988,\n",
       "                         ('pomme', 9): Mean: 7.89396,\n",
       "                         ('pomme', 10): Mean: 11.791436,\n",
       "                         ('pomme', 11): Mean: 12.976854,\n",
       "                         ('pomme', 12): Mean: 13.962654,\n",
       "                         ('pomme', 13): Mean: 11.692257,\n",
       "                         ('pomme', 14): Mean: 11.180851,\n",
       "                         ('pomme', 15): Mean: 11.939586,\n",
       "                         ('pomme', 16): Mean: 12.267051,\n",
       "                         ('pomme', 17): Mean: 12.132993,\n",
       "                         ('pomme', 18): Mean: 11.399108,\n",
       "                         ('pomme', 19): Mean: 6.37021,\n",
       "                         ('pomme', 20): Mean: 5.279234,\n",
       "                         ('pomme', 21): Mean: 6.254257,\n",
       "                         ('pomme', 22): Mean: 6.568678,\n",
       "                         ('pomme', 23): Mean: 5.235756}),\n",
       " 'by': ['station', 'hour'],\n",
       " 'how': Mean: 0.,\n",
       " 'on': 'y'}\n",
       "\n",
       "</code></details></div></div><details class=\"component estimator\"><summary><pre class=\"estimator-name\">StandardScaler</pre></summary><code class=\"estimator-params\">\n",
       "{'counts': Counter({'y_mean_by_station_and_hour': 182470,\n",
       "                    'wind': 182470,\n",
       "                    'temperature': 182470,\n",
       "                    'clouds': 182470,\n",
       "                    'pressure': 182470,\n",
       "                    'humidity': 182470}),\n",
       " 'means': defaultdict(&lt;class 'float'&gt;,\n",
       "                      {'clouds': 30.315131254453505,\n",
       "                       'humidity': 62.24244533347998,\n",
       "                       'pressure': 1017.0563060996391,\n",
       "                       'temperature': 20.50980692716619,\n",
       "                       'wind': 3.4184331122924543,\n",
       "                       'y_mean_by_station_and_hour': 9.468200635816528}),\n",
       " 'vars': defaultdict(&lt;class 'float'&gt;,\n",
       "                     {'clouds': 1389.0025610928221,\n",
       "                      'humidity': 349.59967918503554,\n",
       "                      'pressure': 33.298307526514115,\n",
       "                      'temperature': 34.70701720774977,\n",
       "                      'wind': 4.473627075744674,\n",
       "                      'y_mean_by_station_and_hour': 33.720872727055365}),\n",
       " 'with_std': True}\n",
       "\n",
       "</code></details><details class=\"component estimator\"><summary><pre class=\"estimator-name\">LinearRegression</pre></summary><code class=\"estimator-params\">\n",
       "{'_weights': {'y_mean_by_station_and_hour': 3.871921823842874, 'wind': -0.26121936045271393, 'temperature': -2.7950777648287244, 'clouds': -0.6106470619450326, 'pressure': 2.1481948468090306, 'humidity': 3.8817929874945243},\n",
       " '_y_name': None,\n",
       " 'clip_gradient': 1000000000000.0,\n",
       " 'initializer': Zeros (),\n",
       " 'intercept': 6.096564954881429,\n",
       " 'intercept_init': 0.0,\n",
       " 'intercept_lr': Constant({'learning_rate': 0.01}),\n",
       " 'l2': 0.0,\n",
       " 'loss': Squared({}),\n",
       " 'optimizer': SGD({'lr': Constant({'learning_rate': 0.001}), 'n_iterations': 182470})}\n",
       "\n",
       "</code></details></div><style scoped>\n",
       ".estimator {\n",
       "    padding: 1em;\n",
       "    border-style: solid;\n",
       "    background: white;\n",
       "}\n",
       "\n",
       ".pipeline {\n",
       "    display: flex;\n",
       "    flex-direction: column;\n",
       "    align-items: center;\n",
       "    background: linear-gradient(#000, #000) no-repeat center / 3px 100%;\n",
       "}\n",
       "\n",
       ".union {\n",
       "    display: flex;\n",
       "    flex-direction: row;\n",
       "    align-items: center;\n",
       "    justify-content: center;\n",
       "    padding: 1em;\n",
       "    border-style: solid;\n",
       "    background: white\n",
       "}\n",
       "\n",
       ".wrapper {\n",
       "    display: flex;\n",
       "    flex-direction: column;\n",
       "    align-items: center;\n",
       "    justify-content: center;\n",
       "    padding: 1em;\n",
       "    border-style: solid;\n",
       "    background: white;\n",
       "}\n",
       "\n",
       ".wrapper > .estimator {\n",
       "    margin-top: 1em;\n",
       "}\n",
       "\n",
       "/* Vertical spacing between steps */\n",
       "\n",
       ".component + .component {\n",
       "    margin-top: 2em;\n",
       "}\n",
       "\n",
       ".union > .estimator {\n",
       "    margin-top: 0;\n",
       "}\n",
       "\n",
       ".union > .pipeline {\n",
       "    margin-top: 0;\n",
       "}\n",
       "\n",
       "/* Spacing within a union of estimators */\n",
       "\n",
       ".union > .component + .component {\n",
       "    margin-left: 1em;\n",
       "}\n",
       "\n",
       "/* Typography */\n",
       "\n",
       ".estimator-params {\n",
       "    display: block;\n",
       "    white-space: pre-wrap;\n",
       "    font-size: 120%;\n",
       "    margin-bottom: -1em;\n",
       "}\n",
       "\n",
       ".estimator > code,\n",
       ".wrapper > details > code {\n",
       "    background-color: white !important;\n",
       "}\n",
       "\n",
       ".estimator-name {\n",
       "    display: inline;\n",
       "    margin: 0;\n",
       "    font-size: 130%;\n",
       "}\n",
       "\n",
       "/* Toggle */\n",
       "\n",
       "summary {\n",
       "    display: flex;\n",
       "    align-items:center;\n",
       "    cursor: pointer;\n",
       "}\n",
       "\n",
       "summary > div {\n",
       "    width: 100%;\n",
       "}\n",
       "</style></div>"
      ],
      "text/plain": [
       "Pipeline (\n",
       "  TransformerUnion (\n",
       "    Select (\n",
       "      clouds\n",
       "      humidity\n",
       "      pressure\n",
       "      temperature\n",
       "      wind\n",
       "    ),\n",
       "    Pipeline (\n",
       "      FuncTransformer (\n",
       "        func=\"get_hour\"\n",
       "      ),\n",
       "      TargetAgg (\n",
       "        by=['station', 'hour']\n",
       "        how=Mean ()\n",
       "        target_name=\"y\"\n",
       "      )\n",
       "    )\n",
       "  ),\n",
       "  StandardScaler (\n",
       "    with_std=True\n",
       "  ),\n",
       "  LinearRegression (\n",
       "    optimizer=SGD (\n",
       "      lr=Constant (\n",
       "        learning_rate=0.001\n",
       "      )\n",
       "    )\n",
       "    loss=Squared ()\n",
       "    l2=0.\n",
       "    intercept_init=0.\n",
       "    intercept_lr=Constant (\n",
       "      learning_rate=0.01\n",
       "    )\n",
       "    clip_gradient=1e+12\n",
       "    initializer=Zeros ()\n",
       "  )\n",
       ")"
      ]
     },
     "execution_count": 4,
     "metadata": {},
     "output_type": "execute_result"
    }
   ],
   "source": [
    "model"
   ]
  },
  {
   "cell_type": "code",
   "execution_count": 5,
   "metadata": {
    "pycharm": {
     "name": "#%%\n"
    }
   },
   "outputs": [
    {
     "name": "stdout",
     "output_type": "stream",
     "text": [
      "0. Input\n",
      "--------\n",
      "clouds: 0 (int)\n",
      "description: clear sky (str)\n",
      "humidity: 52 (int)\n",
      "moment: 2016-04-10 19:03:27 (datetime)\n",
      "pressure: 1,001.00000 (float)\n",
      "station: place-esquirol (str)\n",
      "temperature: 19.00000 (float)\n",
      "wind: 7.70000 (float)\n",
      "\n",
      "1. Transformer union\n",
      "--------------------\n",
      "    1.0 Select\n",
      "    ----------\n",
      "    clouds: 0 (int)\n",
      "    humidity: 52 (int)\n",
      "    pressure: 1,001.00000 (float)\n",
      "    temperature: 19.00000 (float)\n",
      "    wind: 7.70000 (float)\n",
      "\n",
      "    1.1 get_hour | y_mean_by_station_and_hour\n",
      "    -----------------------------------------\n",
      "    y_mean_by_station_and_hour: 7.97175 (float)\n",
      "\n",
      "clouds: 0 (int)\n",
      "humidity: 52 (int)\n",
      "pressure: 1,001.00000 (float)\n",
      "temperature: 19.00000 (float)\n",
      "wind: 7.70000 (float)\n",
      "y_mean_by_station_and_hour: 7.97175 (float)\n",
      "\n",
      "2. StandardScaler\n",
      "-----------------\n",
      "clouds: -1.36138 (float)\n",
      "humidity: -1.73083 (float)\n",
      "pressure: -1.26076 (float)\n",
      "temperature: 1.76232 (float)\n",
      "wind: 1.45841 (float)\n",
      "y_mean_by_station_and_hour: 0.05496 (float)\n",
      "\n",
      "3. LinearRegression\n",
      "-------------------\n",
      "Name                         Value      Weight     Contribution  \n",
      "                 Intercept    1.00000    6.58252        6.58252  \n",
      "               temperature    1.76232    2.47030        4.35345  \n",
      "                    clouds   -1.36138   -1.92255        2.61732  \n",
      "y_mean_by_station_and_hour    0.05496    0.54167        0.02977  \n",
      "                      wind    1.45841   -0.77720       -1.13348  \n",
      "                  humidity   -1.73083    1.44921       -2.50833  \n",
      "                  pressure   -1.26076    3.78529       -4.77234  \n",
      "\n",
      "Prediction: 5.16889\n"
     ]
    }
   ],
   "source": [
    "import itertools\n",
    "\n",
    "X_y = iter(datasets.Bikes())\n",
    "\n",
    "model = compose.Select('clouds', 'humidity', 'pressure', 'temperature', 'wind')\n",
    "model += (\n",
    "    get_hour |\n",
    "    feature_extraction.TargetAgg(by=['station', 'hour'], how=stats.Mean())\n",
    ")\n",
    "model |= preprocessing.StandardScaler()\n",
    "model |= linear_model.LinearRegression()\n",
    "\n",
    "for x, y in itertools.islice(X_y, 10000):\n",
    "    y_pred = model.predict_one(x)\n",
    "    model.learn_one(x, y)\n",
    "\n",
    "x, y = next(X_y)\n",
    "print(model.debug_one(x))"
   ]
  },
  {
   "cell_type": "markdown",
   "metadata": {
    "pycharm": {
     "name": "#%% md\n"
    }
   },
   "source": [
    "The debug_one method shows what happens to an input set of features, step by step.\n",
    "\n",
    "And now comes the catch. Up until now we've been using the progressive_val_score method from the evaluate module. What this does it that it sequentially predicts the output of an observation and updates the model immediately afterwards. This way of doing is often used for evaluating online learning models, but in some cases it is the wrong approach.\n",
    "\n",
    "The following paragraph is extremely important. When evaluating a machine learning model, the goal is to simulate production conditions in order to get a trust-worthy assessment of the performance of the model. In our case, we typically want to forecast the number of bikes available in a station, say, 30 minutes ahead. Then, once the 30 minutes have passed, the true number of available bikes will be available and we will be able to update the model using the features available 30 minutes ago. If you think about, this is exactly how a real-time machine learning system should work. The problem is that this isn't what the progressive_val_score method is emulating, indeed it is simply asking the model to predict the next observation, which is only a few minutes ahead, and then updates the model immediately. We can prove that this is flawed by adding a feature that measures a running average of the very recent values."
   ]
  },
  {
   "cell_type": "markdown",
   "metadata": {
    "pycharm": {
     "name": "#%% md\n"
    }
   },
   "source": [
    "Quindi quello che abbiamo fatto con il metodo ``progressive_val_score`` è di fare previsione sul prossimo paramentro, quindi a noi arriva un valore e noi cerchiamo di predirre il prossimo basandoci sul nostro modello, e poi aggiorniamo.\n",
    "Ma nel caso volessimo prevedere i valori per i prossimi 30 minuti..., quindi prevediamo i prossimi quante biciclette ci saranno fra 30 minuti, quindi noi prevediamo questo numero e 30 minuti dopo avremo il vero valore! E solo ora potremo aggiornare il modello!\n"
   ]
  },
  {
   "cell_type": "code",
   "execution_count": 7,
   "metadata": {
    "pycharm": {
     "name": "#%%\n"
    }
   },
   "outputs": [
    {
     "name": "stdout",
     "output_type": "stream",
     "text": [
      "[20,000] MAE: 20.159286\n",
      "[40,000] MAE: 10.458898\n",
      "[60,000] MAE: 7.2759\n",
      "[80,000] MAE: 5.715397\n",
      "[100,000] MAE: 4.775094\n",
      "[120,000] MAE: 4.138421\n",
      "[140,000] MAE: 3.682591\n",
      "[160,000] MAE: 3.35015\n",
      "[180,000] MAE: 3.091398\n"
     ]
    },
    {
     "data": {
      "text/plain": [
       "MAE: 3.06414"
      ]
     },
     "execution_count": 7,
     "metadata": {},
     "output_type": "execute_result"
    }
   ],
   "source": [
    "X_y = datasets.Bikes()\n",
    "\n",
    "model = compose.Select('clouds', 'humidity', 'pressure', 'temperature', 'wind')\n",
    "model += (\n",
    "    get_hour |\n",
    "    feature_extraction.TargetAgg(by=['station', 'hour'], how=stats.Mean()) + \n",
    "    feature_extraction.TargetAgg(by='station', how=stats.EWMean(0.5))\n",
    ")\n",
    "model |= preprocessing.StandardScaler()\n",
    "model |= linear_model.LinearRegression()\n",
    "\n",
    "metric = metrics.MAE()\n",
    "\n",
    "evaluate.progressive_val_score(X_y, model, metric, print_every=20_000)"
   ]
  },
  {
   "cell_type": "markdown",
   "metadata": {
    "pycharm": {
     "name": "#%% md\n"
    }
   },
   "source": [
    "Quindi noi stiamo semplificando troppo il lavoro, cioè questo è un compito troppo facile per il nostro modellino... Quello che davvero vorremmo è poter fare forecasting per i prossimi 30 minuti! e dopo aggiornare il nostro modello!\n",
    "\n",
    "Possiamo simulare questo comportamento utilizzando i paramentri `moment` e `delay` nel `progressive_val_score`. Quindi l'idea è quella che ogni osservazione dello stream sia mostrata due volte, una prima volta per fare la predizione, e una seconda per fare update del modello quando il *VERO VALORE* arriva al nostro stream!\n",
    "Quindi `moment` è il parametro che determina quale variabile dovrebbe essere usata come timestamp, mentre la `dealy` controlla la durata dell'attesa prima di mostrare il vero valore al modello"
   ]
  },
  {
   "cell_type": "code",
   "execution_count": 8,
   "metadata": {
    "pycharm": {
     "name": "#%%\n"
    }
   },
   "outputs": [
    {
     "name": "stdout",
     "output_type": "stream",
     "text": [
      "[20,000] MAE: 2.24812\n",
      "[40,000] MAE: 2.240287\n",
      "[60,000] MAE: 2.270287\n",
      "[80,000] MAE: 2.28649\n",
      "[100,000] MAE: 2.294264\n",
      "[120,000] MAE: 2.275891\n",
      "[140,000] MAE: 2.261411\n",
      "[160,000] MAE: 2.285978\n",
      "[180,000] MAE: 2.289353\n"
     ]
    },
    {
     "data": {
      "text/plain": [
       "MAE: 2.29304"
      ]
     },
     "execution_count": 8,
     "metadata": {},
     "output_type": "execute_result"
    }
   ],
   "source": [
    "import datetime as dt\n",
    "model = compose.Select('clouds', 'humidity', 'pressure', 'temperature', 'wind')\n",
    "\n",
    "model += (\n",
    "    get_hour|\n",
    "    feature_extraction.TargetAgg(by=['station','hour'], how=stats.Mean()) +\n",
    "    feature_extraction.TargetAgg(by='station', how=stats.EWMean(0.5))\n",
    ")\n",
    "model |=preprocessing.StandardScaler\n",
    "model |= linear_model.LinearRegression()\n",
    "\n",
    "evaluate.progressive_val_score(\n",
    "    dataset=datasets.Bikes(),\n",
    "    model=model,\n",
    "    metric=metrics.MAE(),\n",
    "    moment='moment',\n",
    "    delay=dt.timedelta(minutes=30),\n",
    "    print_every=20_000\n",
    ")"
   ]
  },
  {
   "cell_type": "code",
   "execution_count": 9,
   "metadata": {
    "pycharm": {
     "name": "#%%\n"
    }
   },
   "outputs": [
    {
     "name": "stdout",
     "output_type": "stream",
     "text": [
      "[20,000] MAE: 2.253263\n",
      "[40,000] MAE: 2.242859\n",
      "[60,000] MAE: 2.272001\n",
      "[80,000] MAE: 2.287776\n",
      "[100,000] MAE: 2.295292\n",
      "[120,000] MAE: 2.276748\n",
      "[140,000] MAE: 2.262146\n",
      "[160,000] MAE: 2.286621\n",
      "[180,000] MAE: 2.289925\n"
     ]
    },
    {
     "data": {
      "text/plain": [
       "MAE: 2.293604"
      ]
     },
     "execution_count": 9,
     "metadata": {},
     "output_type": "execute_result"
    }
   ],
   "source": [
    "from river import ensemble\n",
    "from river import optim\n",
    "\n",
    "model = compose.Select('clouds', 'humidity', 'pressure', 'temperature', 'wind')\n",
    "model += (\n",
    "    get_hour |\n",
    "    feature_extraction.TargetAgg(by=['station', 'hour'], how=stats.Mean())\n",
    ")\n",
    "model += feature_extraction.TargetAgg(by='station', how=stats.EWMean(0.5))\n",
    "model |= preprocessing.StandardScaler()\n",
    "model |= ensemble.EWARegressor([\n",
    "    linear_model.LinearRegression(optim.SGD()),\n",
    "    linear_model.LinearRegression(optim.RMSProp()),\n",
    "    linear_model.LinearRegression(optim.Adam())\n",
    "])\n",
    "\n",
    "evaluate.progressive_val_score(\n",
    "    dataset=datasets.Bikes(),\n",
    "    model=model,\n",
    "    metric=metrics.MAE(),\n",
    "    moment='moment',\n",
    "    delay=dt.timedelta(minutes=30),\n",
    "    print_every=20_000\n",
    ")"
   ]
  }
 ],
 "metadata": {
  "interpreter": {
   "hash": "59f5992ab00c558a84279d33bb134f8aa55f204103f96d48d70e349812082309"
  },
  "kernelspec": {
   "display_name": "Python 3.9.7 ('river')",
   "language": "python",
   "name": "python3"
  },
  "language_info": {
   "codemirror_mode": {
    "name": "ipython",
    "version": 3
   },
   "file_extension": ".py",
   "mimetype": "text/x-python",
   "name": "python",
   "nbconvert_exporter": "python",
   "pygments_lexer": "ipython3",
   "version": "3.9.7"
  },
  "orig_nbformat": 4
 },
 "nbformat": 4,
 "nbformat_minor": 2
}