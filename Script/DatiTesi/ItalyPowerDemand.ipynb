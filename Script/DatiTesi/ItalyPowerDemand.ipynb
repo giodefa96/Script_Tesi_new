{
 "cells": [
  {
   "cell_type": "code",
   "execution_count": 1,
   "metadata": {
    "collapsed": true,
    "pycharm": {
     "name": "#%%\n"
    }
   },
   "outputs": [],
   "source": [
    "import pandas as pd"
   ]
  },
  {
   "cell_type": "code",
   "execution_count": 3,
   "outputs": [],
   "source": [
    "dati_test = pd.read_csv(r\"C:\\Users\\giode\\PycharmProjects\\Script_Tesi_new\\Dati\\ItalyPowerDemand(1)\\ItalyPowerDemand_TEST.txt\",delim_whitespace=True, index_col=False, header=0, names=('target','00:00-00:59','01:00-01:59','02:00-02:59','03:00-03:59','04:00-04:59','05:00-05:59','06:00-06:59','07:00-07:59','08:00-08:59','09:00-09:59','10:00-10:59','11:00-11:59','12:00-12:59','13:00-13:59','14:00-14:59','15:00-15:59','16:00-16:59','17:00-17:59','18:00-18:59','19:00-19:59','20:00-20:59','21:00-21:59','22:00-22:59','23:00-23:59'))\n",
    "\n",
    "dati_train = pd.read_csv(r\"C:\\Users\\giode\\PycharmProjects\\Script_Tesi_new\\Dati\\ItalyPowerDemand(1)\\ItalyPowerDemand_TEST.txt\", delim_whitespace=True, index_col=False, header=0, names=('target','00:00-00:59','01:00-01:59','02:00-02:59','03:00-03:59','04:00-04:59','05:00-05:59','06:00-06:59','07:00-07:59','08:00-08:59','09:00-09:59','10:00-10:59','11:00-11:59','12:00-12:59','13:00-13:59','14:00-14:59','15:00-15:59','16:00-16:59','17:00-17:59','18:00-18:59','19:00-19:59','20:00-20:59','21:00-21:59','22:00-22:59','23:00-23:59'))\n",
    "\n",
    "dati_train = dati_train.drop(\"target\", axis= 1)\n",
    "dati_test = dati_test.drop(\"target\", axis= 1)\n",
    "\n",
    "dati_train = dati_train.stack().reset_index()\n",
    "dati_test = dati_test.stack().reset_index()"
   ],
   "metadata": {
    "collapsed": false,
    "pycharm": {
     "name": "#%%\n"
    }
   }
  },
  {
   "cell_type": "code",
   "execution_count": 4,
   "outputs": [
    {
     "data": {
      "text/plain": "       level_0      level_1         0\n0            0  00:00-00:59 -1.098737\n1            0  01:00-01:59 -1.134565\n2            0  02:00-02:59 -1.600334\n3            0  03:00-03:59 -1.707820\n4            0  04:00-04:59 -1.636163\n...        ...          ...       ...\n24667     1027  19:00-19:59  0.180490\n24668     1027  20:00-20:59 -0.094058\n24669     1027  21:00-21:59  0.729587\n24670     1027  22:00-22:59  0.210995\n24671     1027  23:00-23:59 -0.002542\n\n[24672 rows x 3 columns]",
      "text/html": "<div>\n<style scoped>\n    .dataframe tbody tr th:only-of-type {\n        vertical-align: middle;\n    }\n\n    .dataframe tbody tr th {\n        vertical-align: top;\n    }\n\n    .dataframe thead th {\n        text-align: right;\n    }\n</style>\n<table border=\"1\" class=\"dataframe\">\n  <thead>\n    <tr style=\"text-align: right;\">\n      <th></th>\n      <th>level_0</th>\n      <th>level_1</th>\n      <th>0</th>\n    </tr>\n  </thead>\n  <tbody>\n    <tr>\n      <th>0</th>\n      <td>0</td>\n      <td>00:00-00:59</td>\n      <td>-1.098737</td>\n    </tr>\n    <tr>\n      <th>1</th>\n      <td>0</td>\n      <td>01:00-01:59</td>\n      <td>-1.134565</td>\n    </tr>\n    <tr>\n      <th>2</th>\n      <td>0</td>\n      <td>02:00-02:59</td>\n      <td>-1.600334</td>\n    </tr>\n    <tr>\n      <th>3</th>\n      <td>0</td>\n      <td>03:00-03:59</td>\n      <td>-1.707820</td>\n    </tr>\n    <tr>\n      <th>4</th>\n      <td>0</td>\n      <td>04:00-04:59</td>\n      <td>-1.636163</td>\n    </tr>\n    <tr>\n      <th>...</th>\n      <td>...</td>\n      <td>...</td>\n      <td>...</td>\n    </tr>\n    <tr>\n      <th>24667</th>\n      <td>1027</td>\n      <td>19:00-19:59</td>\n      <td>0.180490</td>\n    </tr>\n    <tr>\n      <th>24668</th>\n      <td>1027</td>\n      <td>20:00-20:59</td>\n      <td>-0.094058</td>\n    </tr>\n    <tr>\n      <th>24669</th>\n      <td>1027</td>\n      <td>21:00-21:59</td>\n      <td>0.729587</td>\n    </tr>\n    <tr>\n      <th>24670</th>\n      <td>1027</td>\n      <td>22:00-22:59</td>\n      <td>0.210995</td>\n    </tr>\n    <tr>\n      <th>24671</th>\n      <td>1027</td>\n      <td>23:00-23:59</td>\n      <td>-0.002542</td>\n    </tr>\n  </tbody>\n</table>\n<p>24672 rows × 3 columns</p>\n</div>"
     },
     "execution_count": 4,
     "metadata": {},
     "output_type": "execute_result"
    }
   ],
   "source": [
    "dati_train"
   ],
   "metadata": {
    "collapsed": false,
    "pycharm": {
     "name": "#%%\n"
    }
   }
  },
  {
   "cell_type": "code",
   "execution_count": 5,
   "outputs": [],
   "source": [
    "dati_train = dati_train.rename(columns = {'level_0':'Count_days','level_1':'Hours',0:'PowerDemandValue'})\n",
    "dati_train = dati_train[['Count_days','Hours','PowerDemandValue']]\n",
    "\n",
    "dati_test = dati_test.rename(columns = {'level_0':'Count_days','level_1':'Hours',0:'PowerDemandValue'})\n",
    "dati_test = dati_test[['Count_days','Hours','PowerDemandValue']]"
   ],
   "metadata": {
    "collapsed": false,
    "pycharm": {
     "name": "#%%\n"
    }
   }
  },
  {
   "cell_type": "code",
   "execution_count": 6,
   "outputs": [
    {
     "data": {
      "text/plain": "0"
     },
     "execution_count": 6,
     "metadata": {},
     "output_type": "execute_result"
    }
   ],
   "source": [
    "dati_train.PowerDemandValue.isna().sum()"
   ],
   "metadata": {
    "collapsed": false,
    "pycharm": {
     "name": "#%%\n"
    }
   }
  },
  {
   "cell_type": "code",
   "execution_count": 7,
   "outputs": [
    {
     "data": {
      "text/plain": "<AxesSubplot:>"
     },
     "execution_count": 7,
     "metadata": {},
     "output_type": "execute_result"
    },
    {
     "data": {
      "text/plain": "<Figure size 432x288 with 1 Axes>",
      "image/png": "[encoded data removed]"
     },
     "metadata": {
      "needs_background": "light"
     },
     "output_type": "display_data"
    }
   ],
   "source": [
    "dati_train.PowerDemandValue.plot()"
   ],
   "metadata": {
    "collapsed": false,
    "pycharm": {
     "name": "#%%\n"
    }
   }
  },
  {
   "cell_type": "code",
   "execution_count": 8,
   "outputs": [
    {
     "data": {
      "text/plain": "0"
     },
     "execution_count": 8,
     "metadata": {},
     "output_type": "execute_result"
    }
   ],
   "source": [
    "dati_test.PowerDemandValue.isna().sum()"
   ],
   "metadata": {
    "collapsed": false,
    "pycharm": {
     "name": "#%%\n"
    }
   }
  },
  {
   "cell_type": "code",
   "execution_count": 9,
   "outputs": [
    {
     "data": {
      "text/plain": "<AxesSubplot:>"
     },
     "execution_count": 9,
     "metadata": {},
     "output_type": "execute_result"
    },
    {
     "data": {
      "text/plain": "<Figure size 432x288 with 1 Axes>",
      "image/png": "[encoded data removed]"
     },
     "metadata": {
      "needs_background": "light"
     },
     "output_type": "display_data"
    }
   ],
   "source": [
    "dati_test.PowerDemandValue.plot()"
   ],
   "metadata": {
    "collapsed": false,
    "pycharm": {
     "name": "#%%\n"
    }
   }
  }
 ],
 "metadata": {
  "kernelspec": {
   "display_name": "Python 3",
   "language": "python",
   "name": "python3"
  },
  "language_info": {
   "codemirror_mode": {
    "name": "ipython",
    "version": 2
   },
   "file_extension": ".py",
   "mimetype": "text/x-python",
   "name": "python",
   "nbconvert_exporter": "python",
   "pygments_lexer": "ipython2",
   "version": "2.7.6"
  }
 },
 "nbformat": 4,
 "nbformat_minor": 0
}