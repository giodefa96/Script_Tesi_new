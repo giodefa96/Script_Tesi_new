{
 "cells": [
  {
   "cell_type": "code",
   "execution_count": null,
   "outputs": [],
   "source": [
    "import pandas as pd\n",
    "import river\n",
    "from pprint import pprint\n",
    "from river import compose\n",
    "from river import linear_model\n",
    "from river import metrics\n",
    "from river import evaluate\n",
    "from river import preprocessing\n",
    "from river import optim\n",
    "from river import feature_extraction\n",
    "from river import stats\n",
    "import itertools\n",
    "import datetime as dt\n",
    "from river import ensemble\n",
    "from river import stream\n",
    "from river import datasets\n",
    "from river import facto\n",
    "from river import compat\n",
    "from river import tree\n",
    "from river import neighbors\n",
    "from river import multioutput\n",
    "from river import neural_net\n",
    "from river import dummy\n",
    "from river import compat\n",
    "from river import time_series\n",
    "import numpy as np\n",
    "import time\n",
    "from tqdm import tqdm\n",
    "from sklearn.neural_network import MLPRegressor\n",
    "from sklearn.datasets import make_regression\n",
    "from sklearn.model_selection import train_test_split\n",
    "from sklearn.metrics import mean_absolute_error, mean_squared_error\n",
    "from sklearn.neighbors import KNeighborsRegressor\n",
    "from sklearn.ensemble import RandomForestRegressor\n",
    "from sklearn.tree import DecisionTreeRegressor\n",
    "%matplotlib inline"
   ],
   "metadata": {
    "collapsed": false,
    "pycharm": {
     "name": "#%%\n"
    }
   }
  },
  {
   "cell_type": "code",
   "execution_count": null,
   "outputs": [],
   "source": [
    "# caricamento dati power Consumption House\n",
    "\n",
    "dati_test = pd.read_csv(\"/home/giodefa/PycharmProjects/Script_Tesi_new/Dati/HouseTwenty/HouseTwenty_TEST.txt\", delim_whitespace=True, header=None)\n",
    "\n",
    "dati_train = pd.read_csv(\"/home/giodefa/PycharmProjects/Script_Tesi_new/Dati/HouseTwenty/HouseTwenty_TRAIN.txt\", delim_whitespace=True, header=None)\n",
    "\n",
    "dati_train = dati_train.drop(0, axis= 1)\n",
    "dati_test = dati_test.drop(0, axis= 1)\n",
    "\n",
    "dati_train = dati_train.stack().reset_index()\n",
    "dati_test = dati_test.stack().reset_index()\n",
    "\n",
    "dati_train = dati_train.rename(columns = {'level_0':'Count_days','level_1':'Tick',0:'PowerConsumption'})\n",
    "dati_train = dati_train[['Count_days','Tick','PowerConsumption']]\n",
    "\n",
    "dati_test = dati_test.rename(columns = {'level_0':'Count_days','level_1':'Tick',0:'PowerConsumption'})\n",
    "dati_test = dati_test[['Count_days','Tick','PowerConsumption']]\n",
    "\n",
    "\n",
    "# concateno i due dataset almeno per quanto riguarda lo sviluppo di algoritmi online\n",
    "\n",
    "dati_complete_twe = pd.concat([dati_train, dati_test])\n",
    "\n",
    "dati_complete_twe = dati_complete_twe[['Count_days', 'Tick', 'PowerConsumption']]\n",
    "dati_complete_twe.to_csv('dati_PowerConsumption_twe')\n",
    "\n",
    "\n",
    "dati_complete_twe = pd.read_csv('/home/giodefa/PycharmProjects/Script_Tesi_new/Script/DatiTesi/dati_PowerConsumption_twe')\n",
    "\n",
    "\n",
    "\n",
    "dati_complete_twe = dati_complete_twe[['Count_days', 'Tick', 'PowerConsumption']]\n",
    "dati_complete_twe\n",
    "\n",
    "\n",
    "def initial_iter_twe():\n",
    "\n",
    "       path = '/home/giodefa/PycharmProjects/Script_Tesi_new/Script/DatiTesi/dati_PowerConsumption_twe'\n",
    "\n",
    "       X_y = stream.iter_csv(\n",
    "              filepath_or_buffer=path,\n",
    "              converters={\n",
    "                     'Count_days': int,\n",
    "                     'PowerConsumption': float,\n",
    "                     'Tick': int\n",
    "                     },\n",
    "              target='PowerConsumption'\n",
    "                      )\n",
    "       return X_y"
   ],
   "metadata": {
    "collapsed": false,
    "pycharm": {
     "name": "#%%\n"
    }
   }
  },
  {
   "cell_type": "markdown",
   "source": [
    "# Power Consumption House"
   ],
   "metadata": {
    "collapsed": false,
    "pycharm": {
     "name": "#%% md\n"
    }
   }
  },
  {
   "cell_type": "markdown",
   "source": [
    "## MLP Online vs MLP Batch\n"
   ],
   "metadata": {
    "collapsed": false,
    "pycharm": {
     "name": "#%% md\n"
    }
   }
  },
  {
   "cell_type": "markdown",
   "source": [
    "### MLP Online"
   ],
   "metadata": {
    "collapsed": false,
    "pycharm": {
     "name": "#%% md\n"
    }
   }
  },
  {
   "cell_type": "code",
   "execution_count": null,
   "outputs": [],
   "source": [
    "metric_mae_ml_online = metrics.MAE()\n",
    "metric_mse_ml_online = metrics.MSE()\n",
    "\n",
    "dates_ml_online = []\n",
    "y_trues_ml_online = []\n",
    "y_preds_ml_online = []\n",
    "metrics_MAE_ml_online = []\n",
    "metrics_MSE_ml_online = []\n",
    "\n",
    "X_y = initial_iter_idraulic()\n",
    "\n",
    "model = compose.Select()\n",
    "model |= (\n",
    "       preprocessing.StandardScaler() |\n",
    "       neural_net.MLPRegressor(\n",
    "              hidden_dims=(8, 16),\n",
    "              activations=(\n",
    "                     neural_net.activations.ReLU,\n",
    "                     neural_net.activations.ReLU,\n",
    "                     neural_net.activations.Identity\n",
    "              ),\n",
    "              optimizer=optim.SGD(0.5),\n",
    "\n",
    "       )\n",
    ")\n",
    "\n",
    "# get the start time\n",
    "st = time.time()\n",
    "\n",
    "for i in tqdm(range(0,8496)):  #8496\n",
    "       x, y = next(X_y)\n",
    "       # Obtain the prior prediction and update the model in one go\n",
    "       y_pred = model.predict_one(x)\n",
    "       model.learn_one(x, y)\n",
    "\n",
    "       # Update the error metric ultimo 30%\n",
    "       metric_mae_ml_online.update(y, y_pred)\n",
    "       metric_mse_ml_online.update(y, y_pred)\n",
    "       metrics_MAE_ml_online.append(metric_mae_ml_online.get())\n",
    "       metrics_MSE_ml_online.append(metric_mse_ml_online.get())\n",
    "\n",
    "       # Store the true value and the prediction\n",
    "       dates_ml_online.append(x['date'])\n",
    "       y_trues_ml_online.append(y)\n",
    "       y_preds_ml_online.append(y_pred)\n",
    "\n",
    "et = time.time()\n",
    "\n",
    "# get the execution time\n",
    "elapsed_time = et - st\n",
    "print('Execution time:', elapsed_time, 'seconds')\n",
    "\n",
    "# Plot the results\n",
    "fig, ax = plt.subplots(figsize=(10, 6))\n",
    "ax.grid(alpha=0.75)\n",
    "ax.plot(dates_ml_online, y_trues_ml_online, lw=3, color='#2ecc71', alpha=0.8, label='Ground truth')\n",
    "ax.plot(dates_ml_online, y_preds_ml_online, lw=3, color='#e74c3c', alpha=0.8, label='Prediction')\n",
    "ax.legend()\n",
    "\n",
    "fig, ax = plt.subplots(figsize=(10, 6))\n",
    "ax.grid(alpha=0.75)\n",
    "ax.plot(dates_ml_online, metrics_MAE_ml_online, lw=3, color='#2ecc71', alpha=0.8, label='MAE')\n",
    "ax.legend()\n",
    "ax.set_title(metric_mae_ml_online)\n",
    "\n",
    "\n",
    "fig, ax = plt.subplots(figsize=(10, 6))\n",
    "ax.grid(alpha=0.75)\n",
    "ax.plot(dates_ml_online, metrics_MSE_ml_online, lw=3, color='#e74c3c', alpha=0.8, label='MSE')\n",
    "ax.legend()\n",
    "ax.set_title(metric_mse_ml_online)"
   ],
   "metadata": {
    "collapsed": false,
    "pycharm": {
     "name": "#%%\n"
    }
   }
  },
  {
   "cell_type": "code",
   "execution_count": null,
   "outputs": [],
   "source": [
    "X_y = initial_iter_idraulic()\n",
    "model = compose.Select()\n",
    "model |= (\n",
    "       preprocessing.StandardScaler() |\n",
    "       neural_net.MLPRegressor(\n",
    "              hidden_dims=(8, 16),\n",
    "              activations=(\n",
    "                     neural_net.activations.ReLU,\n",
    "                     neural_net.activations.ReLU,\n",
    "                     neural_net.activations.Identity\n",
    "              ),\n",
    "              optimizer=optim.SGD(0.005),\n",
    "\n",
    "       )\n",
    ")\n",
    "\n",
    "evaluate.progressive_val_score(\n",
    "       dataset= X_y,\n",
    "       model = model,\n",
    "       metric = metrics.MAE(),\n",
    "       moment='date',\n",
    "       delay=dt.timedelta(hours=3),\n",
    "       print_every=3000\n",
    ")"
   ],
   "metadata": {
    "collapsed": false,
    "pycharm": {
     "name": "#%%\n"
    }
   }
  },
  {
   "cell_type": "code",
   "execution_count": null,
   "outputs": [],
   "source": [
    "X_y = initial_iter_idraulic()\n",
    "model = compose.Select()\n",
    "model |= (\n",
    "       preprocessing.StandardScaler() |\n",
    "       neural_net.MLPRegressor(\n",
    "              hidden_dims=(8, 16),\n",
    "              activations=(\n",
    "                     neural_net.activations.ReLU,\n",
    "                     neural_net.activations.ReLU,\n",
    "                     neural_net.activations.Identity\n",
    "              ),\n",
    "              optimizer=optim.SGD(0.005),\n",
    "\n",
    "       )\n",
    ")\n",
    "\n",
    "evaluate.progressive_val_score(\n",
    "       dataset= X_y,\n",
    "       model = model,\n",
    "       metric = metrics.MSE(),\n",
    "       moment='date',\n",
    "       delay=dt.timedelta(hours=3),\n",
    "       print_every=3000\n",
    ")"
   ],
   "metadata": {
    "collapsed": false,
    "pycharm": {
     "name": "#%%\n"
    }
   }
  },
  {
   "cell_type": "markdown",
   "source": [
    "### MLP Batch"
   ],
   "metadata": {
    "collapsed": false,
    "pycharm": {
     "name": "#%% md\n"
    }
   }
  },
  {
   "cell_type": "code",
   "execution_count": null,
   "outputs": [],
   "source": [
    "\n",
    "X_mlp = dati['Water_volume'].to_numpy()\n",
    "def split_sequence(sequence, n_steps):\n",
    "\tX, y = list(), list()\n",
    "\tfor i in range(len(sequence)):\n",
    "\t\t# find the end of this pattern\n",
    "\t\tend_ix = i + n_steps\n",
    "\t\t# check if we are beyond the sequence\n",
    "\t\tif end_ix > len(sequence)-1:\n",
    "\t\t\tbreak\n",
    "\t\t# gather input and output parts of the pattern\n",
    "\t\tseq_x, seq_y = sequence[i:end_ix], sequence[end_ix]\n",
    "\t\tX.append(seq_x)\n",
    "\t\ty.append(seq_y)\n",
    "\treturn X, y\n",
    "\n",
    "# split into samples\n",
    "X_mlp, y_mlp = split_sequence(X_mlp, 1)\n",
    "\n",
    "X_train_mlp, X_test_mlp, Y_train_mlp, Y_test_mlp = train_test_split(X_mlp, y_mlp, random_state=1, train_size=0.7, shuffle=False)\n",
    "\n",
    "\n",
    "\n",
    "# get the start time\n",
    "st = time.time()\n",
    "\n",
    "regr_mlp = MLPRegressor(random_state=1, max_iter=2000, hidden_layer_sizes=(8, 16)).fit(X_train_mlp, Y_train_mlp)\n",
    "\n",
    "\n",
    "\n",
    "\n",
    "result_mlpBatch = regr_mlp.predict(X_test_mlp).reshape(-1,1)\n",
    "\n",
    "et = time.time()\n",
    "\n",
    "# get the execution time\n",
    "\n",
    "elapsed_time = et - st\n",
    "print('Execution time:', elapsed_time, 'seconds')\n",
    "\n"
   ],
   "metadata": {
    "collapsed": false,
    "pycharm": {
     "name": "#%%\n"
    }
   }
  },
  {
   "cell_type": "code",
   "execution_count": null,
   "outputs": [],
   "source": [
    "fig, (ax1,ax2) = plt.subplots(1,2, figsize=(20, 12))\n",
    "\n",
    "fig.suptitle('Confronto Algoritmo Multi-Layer Perceptron train vs test in a batch situation',  fontsize=16)\n",
    "\n",
    "ax1.bar(height=[mean_absolute_error(Y_train_mlp, regr_mlp.predict(X_train_mlp)),mean_absolute_error(Y_test_mlp, regr_mlp.predict(X_test_mlp))], x=['train_MAE','test_MAE'], color=['#e74c3c', 'cyan'])\n",
    "ax1.set_title('Confronto MAE')\n",
    "ax2.bar(height=[mean_squared_error(Y_train_mlp, regr_mlp.predict(X_train_mlp)),mean_squared_error(Y_test_mlp, regr_mlp.predict(X_test_mlp))], x=['train_MSE','test_MSE'], color=['#e74c3c', 'cyan'])\n",
    "ax2.set_title('Confronto MSE')\n",
    "\n",
    "red_patch = mpatches.Patch(color='#e74c3c', label='train')\n",
    "cyan_patch= mpatches.Patch(color='cyan', label='test')\n",
    "ax1.legend(handles=[red_patch, cyan_patch])\n",
    "ax2.legend(handles=[red_patch, cyan_patch])"
   ],
   "metadata": {
    "collapsed": false,
    "pycharm": {
     "name": "#%%\n"
    }
   }
  },
  {
   "cell_type": "code",
   "execution_count": null,
   "outputs": [],
   "source": [
    "fig, (ax1,ax2) = plt.subplots(1,2, figsize=(20, 12))\n",
    "\n",
    "fig.suptitle('Confronto Algoritmo Multi-Layer Perceptron train vs test in a batch situation',  fontsize=16)\n",
    "\n",
    "ax1.bar(height=[mean_absolute_error(Y_train_mlp, regr_mlp.predict(X_train_mlp)),mean_absolute_error(Y_test_mlp, regr_mlp.predict(X_test_mlp))], x=['train_MAE','test_MAE'], color=['#e74c3c', 'cyan'])\n",
    "ax1.set_title('Confronto MAE')\n",
    "ax2.bar(height=[mean_squared_error(Y_train_mlp, regr_mlp.predict(X_train_mlp)),mean_squared_error(Y_test_mlp, regr_mlp.predict(X_test_mlp))], x=['train_MSE','test_MSE'], color=['#e74c3c', 'cyan'])\n",
    "ax2.set_title('Confronto MSE')\n",
    "\n",
    "red_patch = mpatches.Patch(color='#e74c3c', label='train')\n",
    "cyan_patch= mpatches.Patch(color='cyan', label='test')\n",
    "ax1.legend(handles=[red_patch, cyan_patch])\n",
    "ax2.legend(handles=[red_patch, cyan_patch])"
   ],
   "metadata": {
    "collapsed": false,
    "pycharm": {
     "name": "#%%\n"
    }
   }
  },
  {
   "cell_type": "markdown",
   "source": [
    "### Confronto MLP Batch vs MLP Online\n"
   ],
   "metadata": {
    "collapsed": false,
    "pycharm": {
     "name": "#%% md\n"
    }
   }
  },
  {
   "cell_type": "code",
   "execution_count": null,
   "outputs": [],
   "source": [
    "fig, (ax1,ax2) = plt.subplots(1,2, figsize=(20, 12))\n",
    "\n",
    "fig.suptitle('Confronto Algoritmo Multi-Layer Perceptron online vs Batch su periodo di test',  fontsize=16)\n",
    "\n",
    "ax1.bar(height=[mean_absolute_error(Y_test_mlp, y_preds_ml_online[5947::]),mean_absolute_error(Y_test_mlp, regr_mlp.predict(X_test_mlp))], x=['MAE_online','MAE_BATCH'], color=['#e74c3c', 'cyan'])\n",
    "ax1.set_title('Confronto MAE')\n",
    "ax2.bar(height=[mean_squared_error(Y_test_mlp, y_preds_ml_online[5947::]),mean_squared_error(Y_test_mlp, regr_mlp.predict(X_test_mlp))], x=['MSE_online','MSE_BATCH'], color=['#e74c3c', 'cyan'])\n",
    "ax2.set_title('Confronto MSE')\n",
    "\n",
    "red_patch = mpatches.Patch(color='#e74c3c', label='Online Model')\n",
    "cyan_patch= mpatches.Patch(color='cyan', label='Batch Model')\n",
    "ax1.legend(handles=[red_patch, cyan_patch])\n",
    "ax2.legend(handles=[red_patch, cyan_patch])"
   ],
   "metadata": {
    "collapsed": false,
    "pycharm": {
     "name": "#%%\n"
    }
   }
  },
  {
   "cell_type": "code",
   "execution_count": null,
   "outputs": [],
   "source": [
    "fig, (ax1,ax2) = plt.subplots(1,2, figsize=(20, 12))\n",
    "\n",
    "fig.suptitle('Confronto Algoritmo Multi-Layer Perceptron online vs Batch',  fontsize=16)\n",
    "\n",
    "ax1.bar(height=[metrics_MAE_ml_online[-1],mean_absolute_error(Y_test_mlp, regr_mlp.predict(X_test_mlp))], x=['MAE_online','MAE_BATCH'], color=['#e74c3c', 'cyan'])\n",
    "ax1.set_title('Confronto MAE')\n",
    "ax2.bar(height=[metrics_MSE_ml_online[-1],mean_squared_error(Y_test_mlp, regr_mlp.predict(X_test_mlp))], x=['MSE_online','MSE_BATCH'], color=['#e74c3c', 'cyan'])\n",
    "ax2.set_title('Confronto MSE')\n",
    "\n",
    "red_patch = mpatches.Patch(color='#e74c3c', label='Online Model')\n",
    "cyan_patch= mpatches.Patch(color='cyan', label='Batch Model')\n",
    "ax1.legend(handles=[red_patch, cyan_patch])\n",
    "ax2.legend(handles=[red_patch, cyan_patch])"
   ],
   "metadata": {
    "collapsed": false,
    "pycharm": {
     "name": "#%%\n"
    }
   }
  },
  {
   "cell_type": "code",
   "execution_count": null,
   "outputs": [],
   "source": [
    "fig, (ax1,ax2) = plt.subplots(1,2, figsize=(20, 12))\n",
    "\n",
    "fig.suptitle('Confronto Algoritmo Multi-Layer Perceptron online scenario di produzione vs Batch',  fontsize=16)\n",
    "\n",
    "ax1.bar(height=[6514.380636,mean_absolute_error(Y_test_mlp, regr_mlp.predict(X_test_mlp))], x=['MAE_online','MAE_BATCH'], color=['#e74c3c', 'cyan'])\n",
    "ax1.set_title('Confronto MAE')\n",
    "ax1.set_ylabel('MAE')\n",
    "ax2.bar(height=[60000966.283311,mean_squared_error(Y_test_mlp, regr_mlp.predict(X_test_mlp))], x=['MSE_online','MSE_BATCH'], color=['#e74c3c', 'cyan'])\n",
    "ax2.set_title('Confronto MSE')\n",
    "ax2.set_ylabel('MSE')\n",
    "\n",
    "red_patch = mpatches.Patch(color='#e74c3c', label='Online Model')\n",
    "cyan_patch= mpatches.Patch(color='cyan', label='Batch Model')\n",
    "ax1.legend(handles=[red_patch, cyan_patch])\n",
    "ax2.legend(handles=[red_patch, cyan_patch])"
   ],
   "metadata": {
    "collapsed": false,
    "pycharm": {
     "name": "#%%\n"
    }
   }
  },
  {
   "cell_type": "code",
   "execution_count": null,
   "outputs": [],
   "source": [
    "\n",
    "\n",
    "fig, ax = plt.subplots(figsize=(20, 12))\n",
    "\n",
    "fig.suptitle('Tempo D\\'esecuzione online vs Batch',  fontsize=16)\n",
    "\n",
    "ax.bar(height=[7.974549770355225,0.22284626960754395], x=['MAE_online','MAE_BATCH'], color=['#e74c3c', 'cyan'])\n",
    "ax.set_ylabel('Sec')\n",
    "\n",
    "red_patch = mpatches.Patch(color='#e74c3c', label='Online Model')\n",
    "cyan_patch= mpatches.Patch(color='cyan', label='Batch Model')\n",
    "ax.legend(handles=[red_patch, cyan_patch])"
   ],
   "metadata": {
    "collapsed": false,
    "pycharm": {
     "name": "#%%\n"
    }
   }
  },
  {
   "cell_type": "code",
   "execution_count": null,
   "outputs": [],
   "source": [
    "# Plot the results\n",
    "fig, (ax1,ax2) = plt.subplots(2,1,figsize=(20, 12))\n",
    "fig.suptitle('Confronto predizioni online vs batch sulla lunghezza del test set',  fontsize=16)\n",
    "ax.grid(alpha=0.75)\n",
    "ax1.plot(dates_ml_online[5947::], Y_test_mlp, lw=3, color='#2ecc71', alpha=0.8, label='Ground truth')\n",
    "ax2.plot(dates_ml_online[5947::], Y_test_mlp, lw=3, color='#2ecc71', alpha=0.8, label='Ground truth')\n",
    "ax1.plot(dates_ml_online[5947::], y_preds_ml_online[5947::], lw=3, color='#e74c3c', alpha=0.8, label='Online')\n",
    "ax2.plot(dates_ml_online[5947::], result_mlpBatch, lw=3, color='#e74c3c', alpha=0.8, label='Batch')\n",
    "ax1.legend()\n",
    "ax2.legend()"
   ],
   "metadata": {
    "collapsed": false,
    "pycharm": {
     "name": "#%%\n"
    }
   }
  },
  {
   "cell_type": "markdown",
   "source": [
    "## KNN Regressor Batch vs Online\n"
   ],
   "metadata": {
    "collapsed": false,
    "pycharm": {
     "name": "#%% md\n"
    }
   }
  },
  {
   "cell_type": "markdown",
   "source": [
    "### KNN regressor Online\n"
   ],
   "metadata": {
    "collapsed": false,
    "pycharm": {
     "name": "#%% md\n"
    }
   }
  },
  {
   "cell_type": "code",
   "execution_count": null,
   "outputs": [],
   "source": [
    "\n",
    "metric_mae_knnreg = metrics.MAE()\n",
    "metric_mse_knnreg = metrics.MSE()\n",
    "\n",
    "dates_knnreg = []\n",
    "y_trues_knnreg = []\n",
    "y_preds_knnreg = []\n",
    "metrics_MAE_knnreg = []\n",
    "metrics_MSE_knnreg = []\n",
    "\n",
    "X_y = initial_iter_idraulic()\n",
    "model = compose.Select( )\n",
    "model |= neighbors.KNNRegressor(\n",
    "       window_size= 50,\n",
    "       n_neighbors=10\n",
    ")\n",
    "\n",
    "# get the start time\n",
    "st = time.time()\n",
    "\n",
    "for i in tqdm(range(0,8496)):  #8496\n",
    "       x, y = next(X_y)\n",
    "       # Obtain the prior prediction and update the model in one go\n",
    "\n",
    "       y_pred = model.predict_one(x)\n",
    "       model.learn_one(x, y)\n",
    "\n",
    "       # Update the error metric\n",
    "       metric_mae_knnreg.update(y, y_pred)\n",
    "       metric_mse_knnreg.update(y, y_pred)\n",
    "       metrics_MAE_knnreg.append(metric_mae_knnreg.get())\n",
    "       metrics_MSE_knnreg.append(metric_mse_knnreg.get())\n",
    "\n",
    "\n",
    "       # Store the true value and the prediction\n",
    "       dates_knnreg.append(x['date'])\n",
    "       y_trues_knnreg.append(y)\n",
    "       y_preds_knnreg.append(y_pred)\n",
    "\n",
    "# get the end time\n",
    "et = time.time()\n",
    "\n",
    "# get the execution time\n",
    "elapsed_time = et - st\n",
    "print('Execution time:', elapsed_time, 'seconds')\n",
    "\n",
    "# Plot the results\n",
    "fig, ax = plt.subplots(figsize=(10, 6))\n",
    "ax.grid(alpha=0.75)\n",
    "ax.plot(dates_knnreg, y_trues_knnreg, lw=3, color='#2ecc71', alpha=0.8, label='Ground truth')\n",
    "ax.plot(dates_knnreg, y_preds_knnreg, lw=3, color='#e74c3c', alpha=0.8, label='Prediction')\n",
    "ax.legend()\n",
    "\n",
    "fig, ax = plt.subplots(figsize=(10, 6))\n",
    "ax.grid(alpha=0.75)\n",
    "ax.plot(dates_knnreg, metrics_MAE_knnreg, lw=3, color='#2ecc71', alpha=0.8, label='MAE')\n",
    "ax.legend()\n",
    "ax.set_title(metric_mae_knnreg)\n",
    "\n",
    "\n",
    "fig, ax = plt.subplots(figsize=(10, 6))\n",
    "ax.grid(alpha=0.75)\n",
    "ax.plot(dates_knnreg, metrics_MSE_knnreg, lw=3, color='#e74c3c', alpha=0.8, label='MSE')\n",
    "ax.legend()\n",
    "ax.set_title(metric_mse_knnreg)"
   ],
   "metadata": {
    "collapsed": false,
    "pycharm": {
     "name": "#%%\n"
    }
   }
  },
  {
   "cell_type": "code",
   "execution_count": null,
   "outputs": [],
   "source": [
    "ax.legend()\n",
    "X_y = initial_iter_idraulic()\n",
    "model = compose.Select()\n",
    "X_y = initial_iter_idraulic()\n",
    "model = compose.Select()\n",
    "model |= neighbors.KNNRegressor(\n",
    "       window_size=50,\n",
    "       n_neighbors=10\n",
    ")\n",
    "\n",
    "evaluate.progressive_val_score(\n",
    "       dataset=X_y,\n",
    "       model=model,\n",
    "       metric=metrics.MAE(),\n",
    "       moment='date',\n",
    "       delay=dt.timedelta(hours=3),\n",
    "       print_every=3000\n",
    ")"
   ],
   "metadata": {
    "collapsed": false,
    "pycharm": {
     "name": "#%%\n"
    }
   }
  },
  {
   "cell_type": "code",
   "execution_count": null,
   "outputs": [],
   "source": [
    "ax.legend()\n",
    "X_y = initial_iter_idraulic()\n",
    "model = compose.Select()\n",
    "X_y = initial_iter_idraulic()\n",
    "model = compose.Select()\n",
    "model |= neighbors.KNNRegressor(\n",
    "       window_size=50,\n",
    "       n_neighbors=10\n",
    ")\n",
    "\n",
    "evaluate.progressive_val_score(\n",
    "       dataset=X_y,\n",
    "       model=model,\n",
    "       metric=metrics.MSE(),\n",
    "       moment='date',\n",
    "       delay=dt.timedelta(hours=3),\n",
    "       print_every=3000\n",
    ")"
   ],
   "metadata": {
    "collapsed": false,
    "pycharm": {
     "name": "#%%\n"
    }
   }
  },
  {
   "cell_type": "markdown",
   "source": [
    "### KNN regressor Batch"
   ],
   "metadata": {
    "collapsed": false,
    "pycharm": {
     "name": "#%% md\n"
    }
   }
  },
  {
   "cell_type": "code",
   "execution_count": null,
   "outputs": [],
   "source": [
    "X_knm = dati['Water_volume'].to_numpy()\n",
    "def split_sequence(sequence, n_steps):\n",
    "\tX, y = list(), list()\n",
    "\tfor i in range(len(sequence)):\n",
    "\t\t# find the end of this pattern\n",
    "\t\tend_ix = i + n_steps\n",
    "\t\t# check if we are beyond the sequence\n",
    "\t\tif end_ix > len(sequence)-1:\n",
    "\t\t\tbreak\n",
    "\t\t# gather input and output parts of the pattern\n",
    "\t\tseq_x, seq_y = sequence[i:end_ix], sequence[end_ix]\n",
    "\t\tX.append(seq_x)\n",
    "\t\ty.append(seq_y)\n",
    "\treturn X, y\n",
    "\n",
    "# split into samples\n",
    "X_knm, y_knm = split_sequence(X_knm, 1)\n",
    "\n",
    "X_train_knm, X_test_knm, Y_train_knm, Y_test_knm = train_test_split(X_knm, y_knm, random_state=1, train_size=0.7, shuffle=False)\n",
    "\n",
    "# get the start time\n",
    "st = time.time()\n",
    "\n",
    "neigh = KNeighborsRegressor(n_neighbors=10)\n",
    "neigh.fit(X_train_knm, Y_train_knm)\n",
    "\n",
    "result_knnreg = neigh.predict(X_test_knm)\n",
    "\n",
    "et = time.time()\n",
    "\n",
    "# get the execution time\n",
    "\n",
    "elapsed_time = et - st\n",
    "print('Execution time:', elapsed_time, 'seconds')"
   ],
   "metadata": {
    "collapsed": false,
    "pycharm": {
     "name": "#%%\n"
    }
   }
  },
  {
   "cell_type": "code",
   "execution_count": null,
   "outputs": [],
   "source": [
    "fig, (ax1,ax2) = plt.subplots(1,2, figsize=(20, 12))\n",
    "\n",
    "fig.suptitle('Confronto Algoritmo KNN Regressor train vs test in a batch situation',  fontsize=16)\n",
    "\n",
    "ax1.bar(height=[mean_absolute_error(Y_train_knm, neigh.predict(X_train_knm)),mean_absolute_error(Y_test_knm, neigh.predict(X_test_knm))], x=['train_MAE','test_MAE'], color=['#e74c3c', 'cyan'])\n",
    "ax1.set_title('Confronto MAE')\n",
    "ax2.bar(height=[mean_squared_error(Y_train_knm, neigh.predict(X_train_knm)),mean_squared_error(Y_test_knm, neigh.predict(X_test_knm))], x=['train_MSE','test_MSE'], color=['#e74c3c', 'cyan'])\n",
    "ax2.set_title('Confronto MSE')\n",
    "\n",
    "red_patch = mpatches.Patch(color='#e74c3c', label='train')\n",
    "cyan_patch= mpatches.Patch(color='cyan', label='test')\n",
    "ax1.legend(handles=[red_patch, cyan_patch])\n",
    "ax2.legend(handles=[red_patch, cyan_patch])"
   ],
   "metadata": {
    "collapsed": false,
    "pycharm": {
     "name": "#%%\n"
    }
   }
  },
  {
   "cell_type": "code",
   "execution_count": null,
   "outputs": [],
   "source": [
    "fig, (ax1,ax2) = plt.subplots(1,2, figsize=(20, 12))\n",
    "\n",
    "fig.suptitle('Confronto Algoritmo Multi-Layer Perceptron train vs test in a batch situation',  fontsize=16)\n",
    "\n",
    "ax1.bar(height=[mean_absolute_error(Y_train_mlp, regr_mlp.predict(X_train_mlp)),mean_absolute_error(Y_test_mlp, regr_mlp.predict(X_test_mlp))], x=['train_MAE','test_MAE'], color=['#e74c3c', 'cyan'])\n",
    "ax1.set_title('Confronto MAE')\n",
    "ax2.bar(height=[mean_squared_error(Y_train_mlp, regr_mlp.predict(X_train_mlp)),mean_squared_error(Y_test_mlp, regr_mlp.predict(X_test_mlp))], x=['train_MSE','test_MSE'], color=['#e74c3c', 'cyan'])\n",
    "ax2.set_title('Confronto MSE')\n",
    "\n",
    "red_patch = mpatches.Patch(color='#e74c3c', label='train')\n",
    "cyan_patch= mpatches.Patch(color='cyan', label='test')\n",
    "ax1.legend(handles=[red_patch, cyan_patch])\n",
    "ax2.legend(handles=[red_patch, cyan_patch])"
   ],
   "metadata": {
    "collapsed": false,
    "pycharm": {
     "name": "#%%\n"
    }
   }
  },
  {
   "cell_type": "markdown",
   "source": [
    "### Confronto KNN regressor Batch vs KNN regressor Online\n"
   ],
   "metadata": {
    "collapsed": false,
    "pycharm": {
     "name": "#%% md\n"
    }
   }
  },
  {
   "cell_type": "code",
   "execution_count": null,
   "outputs": [],
   "source": [
    "fig, (ax1,ax2) = plt.subplots(1,2, figsize=(20, 12))\n",
    "\n",
    "fig.suptitle('Confronto Algoritmo KNN Regressor online vs Batch su periodo di test',  fontsize=16)\n",
    "\n",
    "ax1.bar(height=[mean_absolute_error(Y_test_knm, y_preds_knnreg[5947::]),mean_absolute_error(Y_test_knm, neigh.predict(X_test_knm))], x=['MAE_online','MAE_BATCH'], color=['#e74c3c', 'cyan'])\n",
    "ax1.set_title('Confronto MAE')\n",
    "ax2.bar(height=[mean_squared_error(Y_test_knm, y_preds_knnreg[5947::]),mean_squared_error(Y_test_knm, neigh.predict(X_test_knm))], x=['MSE_online','MSE_BATCH'], color=['#e74c3c', 'cyan'])\n",
    "ax2.set_title('Confronto MSE')\n",
    "\n",
    "red_patch = mpatches.Patch(color='#e74c3c', label='Online Model')\n",
    "cyan_patch= mpatches.Patch(color='cyan', label='Batch Model')\n",
    "ax1.legend(handles=[red_patch, cyan_patch])"
   ],
   "metadata": {
    "collapsed": false,
    "pycharm": {
     "name": "#%%\n"
    }
   }
  },
  {
   "cell_type": "code",
   "execution_count": null,
   "outputs": [],
   "source": [
    "fig, (ax1,ax2) = plt.subplots(1,2, figsize=(20, 12))\n",
    "\n",
    "fig.suptitle('Confronto Algoritmo KNN Regressor online vs Batch',  fontsize=16)\n",
    "\n",
    "ax1.bar(height=[metrics_MAE_knnreg[-1],mean_absolute_error(Y_test_knm, neigh.predict(X_test_knm))], x=['MAE_online','MAE_BATCH'], color=['#e74c3c', 'cyan'])\n",
    "ax1.set_title('Confronto MAE')\n",
    "ax2.bar(height=[metrics_MSE_knnreg[-1],mean_squared_error(Y_test_knm, neigh.predict(X_test_knm))], x=['MSE_online','MSE_BATCH'], color=['#e74c3c', 'cyan'])\n",
    "ax2.set_title('Confronto MSE')\n",
    "\n",
    "red_patch = mpatches.Patch(color='#e74c3c', label='Online Model')\n",
    "cyan_patch= mpatches.Patch(color='cyan', label='Batch Model')\n",
    "ax1.legend(handles=[red_patch, cyan_patch])\n",
    "ax2.legend(handles=[red_patch, cyan_patch])"
   ],
   "metadata": {
    "collapsed": false,
    "pycharm": {
     "name": "#%%\n"
    }
   }
  },
  {
   "cell_type": "code",
   "execution_count": null,
   "outputs": [],
   "source": [
    "ax2.set_title('Confronto MSE')\n",
    "fig, (ax1, ax2) = plt.subplots(1, 2, figsize=(20, 12))\n",
    "\n",
    "fig.suptitle('Confronto Algoritmo KNN online scenario di produzione vs Batch', fontsize=16)\n",
    "\n",
    "ax1.bar(height=[7632.871277, mean_absolute_error(Y_test_knm, neigh.predict(X_test_knm))], x=['MAE_online', 'MAE_BATCH'],\n",
    "        color=['#e74c3c', 'cyan'])\n",
    "ax1.set_title('Confronto MAE')\n",
    "ax1.set_ylabel('MAE')\n",
    "ax2.bar(height=[76816720.473762, mean_squared_error(Y_test_knm, neigh.predict(X_test_knm))], x=['MSE_online', 'MSE_BATCH'],\n",
    "        color=['#e74c3c', 'cyan'])\n",
    "ax2.set_title('Confronto MSE')\n",
    "ax2.set_ylabel('MSE')\n",
    "\n",
    "red_patch = mpatches.Patch(color='#e74c3c', label='Online Model')\n",
    "cyan_patch= mpatches.Patch(color='cyan', label='Batch Model')\n",
    "ax1.legend(handles=[red_patch, cyan_patch])\n",
    "ax2.legend(handles=[red_patch, cyan_patch])"
   ],
   "metadata": {
    "collapsed": false,
    "pycharm": {
     "name": "#%%\n"
    }
   }
  },
  {
   "cell_type": "code",
   "execution_count": null,
   "outputs": [],
   "source": [
    "fig, ax = plt.subplots(figsize=(20, 12))\n",
    "\n",
    "fig.suptitle('Tempo D\\'esecuzione online vs Batch',  fontsize=16)\n",
    "\n",
    "ax.bar(height=[0.74070644, 0.011910], x=['Online','Batch'], color=['#e74c3c', 'cyan'])\n",
    "ax.set_ylabel('Sec')\n",
    "\n",
    "red_patch = mpatches.Patch(color='#e74c3c', label='Online Model')\n",
    "cyan_patch= mpatches.Patch(color='cyan', label='Batch Model')\n",
    "ax.legend(handles=[red_patch, cyan_patch])"
   ],
   "metadata": {
    "collapsed": false,
    "pycharm": {
     "name": "#%%\n"
    }
   }
  },
  {
   "cell_type": "code",
   "execution_count": null,
   "outputs": [],
   "source": [
    "# Plot the results\n",
    "fig, (ax1,ax2) = plt.subplots(2,1,figsize=(20, 12))\n",
    "fig.suptitle('Confronto predizioni online vs batch sulla lunghezza del test set',  fontsize=16)\n",
    "ax.grid(alpha=0.75)\n",
    "ax1.plot(dates_knnreg[5947::], Y_test_knm, lw=3, color='#2ecc71', alpha=0.8, label='Ground truth')\n",
    "ax2.plot(dates_knnreg[5947::], Y_test_knm, lw=3, color='#2ecc71', alpha=0.8, label='Ground truth')\n",
    "ax1.plot(dates_knnreg[5947::], y_preds_knnreg[5947::], lw=3, color='#e74c3c', alpha=0.8, label='Online')\n",
    "ax2.plot(dates_knnreg[5947::], result_knnreg, lw=3, color='#e74c3c', alpha=0.8, label='Batch')\n",
    "ax1.legend()\n",
    "ax2.legend()\n",
    "ax1.set_title('ONLINE')\n",
    "ax2.set_title('BATCH')"
   ],
   "metadata": {
    "collapsed": false,
    "pycharm": {
     "name": "#%%\n"
    }
   }
  },
  {
   "cell_type": "markdown",
   "source": [
    "## Random Forest Online vs Random Forest Batch\n"
   ],
   "metadata": {
    "collapsed": false,
    "pycharm": {
     "name": "#%% md\n"
    }
   }
  },
  {
   "cell_type": "markdown",
   "source": [
    "### Random Forest Online\n"
   ],
   "metadata": {
    "collapsed": false,
    "pycharm": {
     "name": "#%% md\n"
    }
   }
  },
  {
   "cell_type": "code",
   "execution_count": null,
   "outputs": [],
   "source": [
    "\n",
    "metric_mae_ranFor_on = metrics.MAE()\n",
    "metric_mse_ranFor_on = metrics.MSE()\n",
    "\n",
    "dates_ranFor_on = []\n",
    "y_trues_ranFor_on = []\n",
    "y_preds_ranFor_on = []\n",
    "metrics_MAE_ranFor_on = []\n",
    "metrics_MSE_ranFor_on = []\n",
    "\n",
    "X_y = initial_iter_idraulic()\n",
    "# '', 'hour', 'days', 'Count_days'\n",
    "model = compose.Select('','hour','days')\n",
    "model |= preprocessing.StandardScaler()\n",
    "\n",
    "model |= ensemble.AdaptiveRandomForestRegressor(metric=metrics.MAE())\n",
    "\n",
    "# get the start time\n",
    "st = time.time()\n",
    "\n",
    "for i in tqdm(range(0,8496)):  #8496\n",
    "       x, y = next(X_y)\n",
    "       # Obtain the prior prediction and update the model in one go\n",
    "       y_pred = model.predict_one(x)\n",
    "       model.learn_one(x, y)\n",
    "\n",
    "       # Update the error metric\n",
    "       metric_mae_ranFor_on.update(y, y_pred)\n",
    "       metric_mse_ranFor_on.update(y, y_pred)\n",
    "       metrics_MAE_ranFor_on.append(metric_mae_ranFor_on.get())\n",
    "       metrics_MSE_ranFor_on.append(metric_mse_ranFor_on.get())\n",
    "\n",
    "       # Store the true value and the prediction\n",
    "       dates_ranFor_on.append(x['date'])\n",
    "       y_trues_ranFor_on.append(y)\n",
    "       y_preds_ranFor_on.append(y_pred)\n",
    "\n",
    "\n",
    "et = time.time()\n",
    "\n",
    "# get the execution time\n",
    "elapsed_time = et - st\n",
    "print('Execution time:', elapsed_time, 'seconds')\n",
    "\n",
    "\n",
    "# Plot the results\n",
    "fig, ax = plt.subplots(figsize=(10, 6))\n",
    "ax.grid(alpha=0.75)\n",
    "ax.plot(dates_ranFor_on, y_trues_ranFor_on, lw=3, color='#2ecc71', alpha=0.8, label='Ground truth')\n",
    "ax.plot(dates_ranFor_on, y_preds_ranFor_on, lw=3, color='#e74c3c', alpha=0.8, label='Prediction')\n",
    "ax.legend()\n",
    "\n",
    "fig, ax = plt.subplots(figsize=(10, 6))\n",
    "ax.grid(alpha=0.75)\n",
    "ax.plot(dates_ranFor_on, metrics_MAE_ranFor_on, lw=3, color='#2ecc71', alpha=0.8, label='MAE')\n",
    "ax.legend()\n",
    "ax.set_title(metric_mae_ranFor_on)\n",
    "\n",
    "\n",
    "fig, ax = plt.subplots(figsize=(10, 6))\n",
    "ax.grid(alpha=0.75)\n",
    "ax.plot(dates_ranFor_on, metrics_MSE_ranFor_on, lw=3, color='#e74c3c', alpha=0.8, label='MSE')\n",
    "ax.legend()\n",
    "ax.set_title(metric_mse_ranFor_on)"
   ],
   "metadata": {
    "collapsed": false,
    "pycharm": {
     "name": "#%%\n"
    }
   }
  },
  {
   "cell_type": "code",
   "execution_count": null,
   "outputs": [],
   "source": [
    "X_y = initial_iter_idraulic()\n",
    "# '', 'hour', 'days', 'Count_days'\n",
    "model = compose.Select('','hour','days')\n",
    "model |= preprocessing.StandardScaler()\n",
    "\n",
    "model |= ensemble.AdaptiveRandomForestRegressor()\n",
    "\n",
    "evaluate.progressive_val_score(\n",
    "       dataset=X_y,\n",
    "       model=model,\n",
    "       metric=metrics.MAE(),\n",
    "       moment='date',\n",
    "       delay=dt.timedelta(hours=3),\n",
    "       print_every=3000\n",
    ")"
   ],
   "metadata": {
    "collapsed": false,
    "pycharm": {
     "name": "#%%\n"
    }
   }
  },
  {
   "cell_type": "code",
   "execution_count": null,
   "outputs": [],
   "source": [
    "X_y = initial_iter_idraulic()\n",
    "# '', 'hour', 'days', 'Count_days'\n",
    "model = compose.Select('','hour','days')\n",
    "model |= preprocessing.StandardScaler()\n",
    "\n",
    "model |= ensemble.AdaptiveRandomForestRegressor()\n",
    "\n",
    "evaluate.progressive_val_score(\n",
    "       dataset= X_y,\n",
    "       model = model,\n",
    "       metric = metrics.MSE(),\n",
    "       moment='date',\n",
    "       delay=dt.timedelta(hours=3),\n",
    "       print_every=3000\n",
    ")"
   ],
   "metadata": {
    "collapsed": false,
    "pycharm": {
     "name": "#%%\n"
    }
   }
  },
  {
   "cell_type": "markdown",
   "source": [
    "### Random Forest Batch\n"
   ],
   "metadata": {
    "collapsed": false,
    "pycharm": {
     "name": "#%% md\n"
    }
   }
  },
  {
   "cell_type": "code",
   "execution_count": null,
   "outputs": [],
   "source": [
    "X_RF = dati[['Water_volume', 'hour', 'days']].to_numpy()\n",
    "def split_sequence(sequence, n_steps):\n",
    "\tX, y = list(), list()\n",
    "\tfor i in range(len(sequence)):\n",
    "\t\t# find the end of this pattern\n",
    "\t\tend_ix = i + n_steps\n",
    "\t\t# check if we are beyond the sequence\n",
    "\t\tif end_ix > len(sequence)-1:\n",
    "\t\t\tbreak\n",
    "\t\t# gather input and output parts of the pattern\n",
    "\t\tseq_x, seq_y = sequence[i:end_ix], sequence[end_ix]\n",
    "\t\tX.append(seq_x)\n",
    "\t\ty.append(seq_y)\n",
    "\treturn X, y\n",
    "\n",
    "# split into samples\n",
    "X_RF, y_RF = split_sequence(X_RF, 1)\n",
    "\n",
    "X_RF = np.array(X_RF).reshape((8495,3))\n",
    "\n",
    "y_RF = np.array(y_RF)\n",
    "y_RF = y_RF[:, [0]]\n",
    "\n"
   ],
   "metadata": {
    "collapsed": false,
    "pycharm": {
     "name": "#%%\n"
    }
   }
  },
  {
   "cell_type": "code",
   "execution_count": null,
   "outputs": [],
   "source": [
    "X_train_RF, X_test_RF, Y_train_RF, Y_test_RF = train_test_split(X_RF, y_RF, random_state=1, train_size=0.7, shuffle=False)"
   ],
   "metadata": {
    "collapsed": false,
    "pycharm": {
     "name": "#%%\n"
    }
   }
  },
  {
   "cell_type": "code",
   "execution_count": null,
   "outputs": [],
   "source": [
    "\n",
    "# get the start time\n",
    "st = time.time()\n",
    "\n",
    "regr_random_forest = RandomForestRegressor(max_depth=7 , random_state=0).fit(X_train_RF, Y_train_RF)\n",
    "result_random_forest = regr_random_forest.predict(X_test_RF).reshape(-1,1)\n",
    "\n",
    "et = time.time()\n",
    "\n",
    "# get the execution time\n",
    "elapsed_time = et - st\n",
    "print('Execution time:', elapsed_time, 'seconds')"
   ],
   "metadata": {
    "collapsed": false,
    "pycharm": {
     "name": "#%%\n"
    }
   }
  },
  {
   "cell_type": "code",
   "execution_count": null,
   "outputs": [],
   "source": [
    "fig, (ax1,ax2) = plt.subplots(1,2, figsize=(20, 12))\n",
    "\n",
    "fig.suptitle('Confronto Algoritmo Random Forest train vs test in a batch situation',  fontsize=16)\n",
    "\n",
    "ax1.bar(height=[mean_absolute_error(Y_train_RF, regr_random_forest.predict(X_train_RF)),mean_absolute_error(Y_test_RF, regr_random_forest.predict(X_test_RF))], x=['train_MAE','test_MAE'], color=['#e74c3c', 'cyan'])\n",
    "ax1.set_title('Confronto MAE')\n",
    "ax2.bar(height=[mean_squared_error(Y_train_RF, regr_random_forest.predict(X_train_RF)),mean_squared_error(Y_test_RF, regr_random_forest.predict(X_test_RF))], x=['train_MSE','test_MSE'], color=['#e74c3c', 'cyan'])\n",
    "ax2.set_title('Confronto MSE')\n",
    "\n",
    "red_patch = mpatches.Patch(color='#e74c3c', label='train')\n",
    "cyan_patch= mpatches.Patch(color='cyan', label='test')\n",
    "ax1.legend(handles=[red_patch, cyan_patch])\n",
    "ax2.legend(handles=[red_patch, cyan_patch])"
   ],
   "metadata": {
    "collapsed": false,
    "pycharm": {
     "name": "#%%\n"
    }
   }
  },
  {
   "cell_type": "code",
   "execution_count": null,
   "outputs": [],
   "source": [
    "# Plot the results\n",
    "fig, (ax1,ax2) = plt.subplots(2,1,figsize=(20, 12))\n",
    "fig.suptitle('Confronto predizioni online vs batch sulla lunghezza del test set',  fontsize=16)\n",
    "ax.grid(alpha=0.75)\n",
    "ax1.plot(dates_ranFor_on[0:5946], Y_train_RF, lw=3, color='#2ecc71', alpha=0.8, label='Ground truth')\n",
    "ax2.plot(dates_ml_online[5947::], Y_test_RF, lw=3, color='#2ecc71', alpha=0.8, label='Ground truth')\n",
    "ax1.plot(dates_ranFor_on[0:5946], regr_random_forest.predict(X_train_RF), lw=3, color='#e74c3c', alpha=0.8, label='TRAIN')\n",
    "ax2.plot(dates_ml_online[5947::], regr_random_forest.predict(X_test_RF), lw=3, color='#e74c3c', alpha=0.8, label='TEST')\n",
    "ax1.legend()\n",
    "ax2.legend()"
   ],
   "metadata": {
    "collapsed": false,
    "pycharm": {
     "name": "#%%\n"
    }
   }
  },
  {
   "cell_type": "markdown",
   "source": [
    "### Confronto Random Forest Batch vs Random Forest Online\n"
   ],
   "metadata": {
    "collapsed": false,
    "pycharm": {
     "name": "#%% md\n"
    }
   }
  },
  {
   "cell_type": "code",
   "execution_count": null,
   "outputs": [],
   "source": [
    "fig, (ax1,ax2) = plt.subplots(1,2, figsize=(20, 12))\n",
    "\n",
    "fig.suptitle('Confronto Algoritmo Random Forest online vs Batch su periodo di test',  fontsize=16)\n",
    "\n",
    "ax1.bar(height=[mean_absolute_error(Y_test_RF, y_preds_ranFor_on[5947::]),mean_absolute_error(Y_test_mlp, regr_mlp.predict(X_test_mlp))], x=['MAE_online','MAE_BATCH'], color=['#e74c3c', 'cyan'])\n",
    "ax1.set_title('Confronto MAE')\n",
    "ax2.bar(height=[mean_squared_error(Y_test_RF, y_preds_ranFor_on[5947::]),mean_squared_error(Y_test_mlp, regr_mlp.predict(X_test_mlp))], x=['MSE_online','MSE_BATCH'], color=['#e74c3c', 'cyan'])\n",
    "ax2.set_title('Confronto MSE')\n",
    "\n",
    "red_patch = mpatches.Patch(color='#e74c3c', label='Online Model')\n",
    "cyan_patch= mpatches.Patch(color='cyan', label='Batch Model')\n",
    "ax1.legend(handles=[red_patch, cyan_patch])\n",
    "ax2.legend(handles=[red_patch, cyan_patch])"
   ],
   "metadata": {
    "collapsed": false,
    "pycharm": {
     "name": "#%%\n"
    }
   }
  },
  {
   "cell_type": "code",
   "execution_count": null,
   "outputs": [],
   "source": [
    "fig, (ax1,ax2) = plt.subplots(1,2, figsize=(20, 12))\n",
    "\n",
    "fig.suptitle('Confronto Algoritmo Random Forest online vs Batch',  fontsize=16)\n",
    "\n",
    "ax1.bar(height=[metrics_MAE_ranFor_on[-1],mean_absolute_error(Y_test_RF, regr_random_forest.predict(X_test_RF))], x=['MAE_online','MAE_BATCH'], color=['#e74c3c', 'cyan'])\n",
    "ax1.set_title('Confronto MAE')\n",
    "ax2.bar(height=[metrics_MSE_ranFor_on[-1],mean_squared_error(Y_test_RF, regr_random_forest.predict(X_test_RF))], x=['MSE_online','MSE_BATCH'], color=['#e74c3c', 'cyan'])\n",
    "ax2.set_title('Confronto MSE')\n",
    "\n",
    "red_patch = mpatches.Patch(color='#e74c3c', label='Online Model')\n",
    "cyan_patch= mpatches.Patch(color='cyan', label='Batch Model')\n",
    "ax1.legend(handles=[red_patch, cyan_patch])\n",
    "ax2.legend(handles=[red_patch, cyan_patch])"
   ],
   "metadata": {
    "collapsed": false,
    "pycharm": {
     "name": "#%%\n"
    }
   }
  },
  {
   "cell_type": "code",
   "execution_count": null,
   "outputs": [],
   "source": [
    "ax2.set_title('Confronto MSE')\n",
    "fig, (ax1, ax2) = plt.subplots(1, 2, figsize=(20, 12))\n",
    "\n",
    "fig.suptitle('Confronto Algoritmo Random Forest online scenario di produzione vs Batch', fontsize=16)\n",
    "\n",
    "ax1.bar(height=[2171.559276, mean_absolute_error(Y_test_RF, regr_random_forest.predict(X_test_RF))], x=['MAE_online', 'MAE_BATCH'],\n",
    "        color=['#e74c3c', 'cyan'])\n",
    "ax1.set_title('Confronto MAE')\n",
    "ax1.set_ylabel('MAE')\n",
    "ax2.bar(height=[14962137.707209, mean_squared_error(Y_test_RF, regr_random_forest.predict(X_test_RF))], x=['MSE_online', 'MSE_BATCH'],\n",
    "        color=['#e74c3c', 'cyan'])\n",
    "ax2.set_title('Confronto MSE')\n",
    "ax2.set_ylabel('MSE')\n",
    "\n",
    "red_patch = mpatches.Patch(color='#e74c3c', label='Online Model')\n",
    "cyan_patch= mpatches.Patch(color='cyan', label='Batch Model')\n",
    "ax1.legend(handles=[red_patch, cyan_patch])\n",
    "ax2.legend(handles=[red_patch, cyan_patch])"
   ],
   "metadata": {
    "collapsed": false,
    "pycharm": {
     "name": "#%%\n"
    }
   }
  },
  {
   "cell_type": "code",
   "execution_count": null,
   "outputs": [],
   "source": [
    "fig, ax = plt.subplots(figsize=(20, 12))\n",
    "\n",
    "fig.suptitle('Tempo D\\'esecuzione online vs Batch',  fontsize=16)\n",
    "\n",
    "ax.bar(height=[31.76457500, 1.23618531], x=['Online','Batch'], color=['#e74c3c', 'cyan'])\n",
    "ax.set_ylabel('Sec')\n",
    "\n",
    "red_patch = mpatches.Patch(color='#e74c3c', label='Online Model')\n",
    "cyan_patch= mpatches.Patch(color='cyan', label='Batch Model')\n",
    "ax.legend(handles=[red_patch, cyan_patch])"
   ],
   "metadata": {
    "collapsed": false,
    "pycharm": {
     "name": "#%%\n"
    }
   }
  },
  {
   "cell_type": "code",
   "execution_count": null,
   "outputs": [],
   "source": [
    "# Plot the results\n",
    "fig, (ax1,ax2) = plt.subplots(2,1,figsize=(20, 12))\n",
    "fig.suptitle('Confronto predizioni online vs batch sulla lunghezza del test set',  fontsize=16)\n",
    "ax.grid(alpha=0.75)\n",
    "ax1.plot(dates_ranFor_on[5947::], Y_test_RF, lw=3, color='#2ecc71', alpha=0.8, label='Ground truth')\n",
    "ax2.plot(dates_ranFor_on[5947::], Y_test_RF, lw=3, color='#2ecc71', alpha=0.8, label='Ground truth')\n",
    "ax1.plot(dates_ranFor_on[5947::], y_preds_ranFor_on[5947::], lw=3, color='#e74c3c', alpha=0.8, label='Online')\n",
    "ax2.plot(dates_ranFor_on[5947::], result_random_forest, lw=3, color='#e74c3c', alpha=0.8, label='Batch')\n",
    "ax1.legend()\n",
    "ax2.legend()\n",
    "ax1.set_title('ONLINE')\n",
    "ax2.set_title('BATCH')"
   ],
   "metadata": {
    "collapsed": false,
    "pycharm": {
     "name": "#%%\n"
    }
   }
  },
  {
   "cell_type": "markdown",
   "source": [
    "## Decision Tree Online vs Decision Tree Batch\n"
   ],
   "metadata": {
    "collapsed": false,
    "pycharm": {
     "name": "#%% md\n"
    }
   }
  },
  {
   "cell_type": "markdown",
   "source": [
    "### Decision Tree Online\n"
   ],
   "metadata": {
    "collapsed": false,
    "pycharm": {
     "name": "#%% md\n"
    }
   }
  },
  {
   "cell_type": "code",
   "execution_count": null,
   "outputs": [],
   "source": [
    "metric_mae_dec_tree = metrics.MAE()\n",
    "metric_mse_dec_tree = metrics.MSE()\n",
    "\n",
    "dates_dec_tree = []\n",
    "y_trues_dec_tree = []\n",
    "y_preds_dec_tree = []\n",
    "metrics_MAE_dec_tree = []\n",
    "metrics_MSE_dec_tree = []\n",
    "\n",
    "X_y = initial_iter_idraulic()\n",
    "\n",
    "base_model = tree.HoeffdingTreeRegressor(grace_period=50)\n",
    "model = compose.Select()\n",
    "model |= ensemble.SRPRegressor(\n",
    "       model=base_model,\n",
    "       training_method='patches',\n",
    "       n_models=5\n",
    ")\n",
    "\n",
    "# get the start time\n",
    "st = time.time()\n",
    "\n",
    "for i in tqdm(range(0,8496)):  #8496\n",
    "       x, y = next(X_y)\n",
    "       # Obtain the prior prediction and update the model in one go\n",
    "       y_pred = model.predict_one(x)\n",
    "       model.learn_one(x, y)\n",
    "\n",
    "       # Update the error metric\n",
    "       metric_mae_dec_tree.update(y, y_pred)\n",
    "       metric_mse_dec_tree.update(y, y_pred)\n",
    "       metrics_MAE_dec_tree.append(metric_mae_dec_tree.get())\n",
    "       metrics_MSE_dec_tree.append(metric_mse_dec_tree.get())\n",
    "\n",
    "       # Store the true value and the prediction\n",
    "       dates_dec_tree.append(i)\n",
    "       y_trues_dec_tree.append(y)\n",
    "       y_preds_dec_tree.append(y_pred)\n",
    "\n",
    "et = time.time()\n",
    "\n",
    "# get the execution time\n",
    "elapsed_time = et - st\n",
    "print('Execution time:', elapsed_time, 'seconds')\n",
    "\n",
    "# Plot the results\n",
    "fig, ax = plt.subplots(figsize=(10, 6))\n",
    "ax.grid(alpha=0.75)\n",
    "ax.plot(dates_dec_tree, y_trues_dec_tree, lw=3, color='#2ecc71', alpha=0.8, label='Ground truth')\n",
    "ax.plot(dates_dec_tree, y_preds_dec_tree, lw=3, color='#e74c3c', alpha=0.8, label='Prediction')\n",
    "ax.legend()\n",
    "\n",
    "fig, ax = plt.subplots(figsize=(10, 6))\n",
    "ax.grid(alpha=0.75)\n",
    "ax.plot(dates_dec_tree, metrics_MAE_dec_tree, lw=3, color='#2ecc71', alpha=0.8, label='MAE')\n",
    "ax.legend()\n",
    "ax.set_title(metric_mae_dec_tree)\n",
    "\n",
    "\n",
    "fig, ax = plt.subplots(figsize=(10, 6))\n",
    "ax.grid(alpha=0.75)\n",
    "ax.plot(dates_dec_tree, metrics_MSE_dec_tree, lw=3, color='#e74c3c', alpha=0.8, label='MSE')\n",
    "ax.legend()\n",
    "ax.set_title(metric_mse_dec_tree)"
   ],
   "metadata": {
    "collapsed": false,
    "pycharm": {
     "name": "#%%\n"
    }
   }
  },
  {
   "cell_type": "code",
   "execution_count": null,
   "outputs": [],
   "source": [
    "X_y = initial_iter_idraulic()\n",
    "\n",
    "base_model = tree.HoeffdingTreeRegressor(grace_period=50)\n",
    "model = compose.Select()\n",
    "model |= ensemble.SRPRegressor(\n",
    "       model=base_model,\n",
    "       training_method='patches',\n",
    "       n_models=10\n",
    ")\n",
    "\n",
    "evaluate.progressive_val_score(\n",
    "       dataset= X_y,\n",
    "       model = model,\n",
    "       metric = metrics.MAE(),\n",
    "       moment='date',\n",
    "       delay=dt.timedelta(hours=3),\n",
    "       print_every=3000\n",
    ")"
   ],
   "metadata": {
    "collapsed": false,
    "pycharm": {
     "name": "#%%\n"
    }
   }
  },
  {
   "cell_type": "code",
   "execution_count": null,
   "outputs": [],
   "source": [
    "X_y = initial_iter_idraulic()\n",
    "\n",
    "base_model = tree.HoeffdingTreeRegressor(grace_period=50)\n",
    "model = compose.Select()\n",
    "model |= ensemble.SRPRegressor(\n",
    "       model=base_model,\n",
    "       training_method='patches',\n",
    "       n_models=10\n",
    ")\n",
    "\n",
    "evaluate.progressive_val_score(\n",
    "       dataset= X_y,\n",
    "       model = model,\n",
    "       metric = metrics.MSE(),\n",
    "       moment='date',\n",
    "       delay=dt.timedelta(hours=3),\n",
    "       print_every=3000\n",
    ")"
   ],
   "metadata": {
    "collapsed": false,
    "pycharm": {
     "name": "#%%\n"
    }
   }
  },
  {
   "cell_type": "markdown",
   "source": [
    "### Decision Tree Batch\n"
   ],
   "metadata": {
    "collapsed": false,
    "pycharm": {
     "name": "#%% md\n"
    }
   }
  },
  {
   "cell_type": "code",
   "execution_count": null,
   "outputs": [],
   "source": [
    "X_DT = dati['Water_volume'].to_numpy()\n",
    "\n",
    "\n",
    "def split_sequence(sequence, n_steps):\n",
    "       X, y = list(), list()\n",
    "       for i in range(len(sequence)):\n",
    "              # find the end of this pattern\n",
    "              end_ix = i + n_steps\n",
    "              # check if we are beyond the sequence\n",
    "              if end_ix > len(sequence) - 1:\n",
    "                     break\n",
    "              # gather input and output parts of the pattern\n",
    "              seq_x, seq_y = sequence[i:end_ix], sequence[end_ix]\n",
    "              X.append(seq_x)\n",
    "              y.append(seq_y)\n",
    "       return X, y\n",
    "\n",
    "\n",
    "# split into samples\n",
    "X_DT, y_DT = split_sequence(X_DT, 1)\n",
    "\n",
    "X_train_DT, X_test_DT, Y_train_DT, Y_test_DT = train_test_split(X_DT, y_DT, random_state=1, train_size=0.7, shuffle=False)\n",
    "\n",
    "# get the start time\n",
    "st = time.time()\n",
    "\n",
    "regressor_dec_tree = DecisionTreeRegressor(random_state=0, max_depth=7).fit(X_train_DT, Y_train_DT)\n",
    "\n",
    "result_dec_tree = regressor_dec_tree.predict(X_test_DT)\n",
    "\n",
    "et = time.time()\n",
    "\n",
    "# get the execution time\n",
    "\n",
    "elapsed_time = et - st\n",
    "print('Execution time:', elapsed_time, 'seconds')"
   ],
   "metadata": {
    "collapsed": false,
    "pycharm": {
     "name": "#%%\n"
    }
   }
  },
  {
   "cell_type": "code",
   "execution_count": null,
   "outputs": [],
   "source": [
    "fig, (ax1,ax2) = plt.subplots(1,2, figsize=(20, 12))\n",
    "\n",
    "fig.suptitle('Confronto Algoritmo Decision Tree Regressor train vs test in a batch situation',  fontsize=16)\n",
    "\n",
    "ax1.bar(height=[mean_absolute_error(Y_train_DT, regressor_dec_tree.predict(X_train_DT)),mean_absolute_error(Y_test_DT, regressor_dec_tree.predict(X_test_DT))], x=['train_MAE','test_MAE'], color=['#e74c3c', 'cyan'])\n",
    "ax1.set_title('Confronto MAE')\n",
    "ax2.bar(height=[mean_squared_error(Y_train_DT, regressor_dec_tree.predict(X_train_DT)),mean_squared_error(Y_test_DT, regressor_dec_tree.predict(X_test_DT))], x=['train_MSE','test_MSE'], color=['#e74c3c', 'cyan'])\n",
    "ax2.set_title('Confronto MSE')\n",
    "\n",
    "red_patch = mpatches.Patch(color='#e74c3c', label='train')\n",
    "cyan_patch= mpatches.Patch(color='cyan', label='test')\n",
    "ax1.legend(handles=[red_patch, cyan_patch])\n",
    "ax2.legend(handles=[red_patch, cyan_patch])"
   ],
   "metadata": {
    "collapsed": false,
    "pycharm": {
     "name": "#%%\n"
    }
   }
  },
  {
   "cell_type": "code",
   "execution_count": null,
   "outputs": [],
   "source": [
    "# Plot the results\n",
    "fig, (ax1,ax2) = plt.subplots(2,1,figsize=(20, 12))\n",
    "fig.suptitle('Confronto predizioni online vs batch sulla lunghezza del test set',  fontsize=16)\n",
    "ax.grid(alpha=0.75)\n",
    "ax1.plot(dates_dec_tree[0:5946], Y_train_DT, lw=3, color='#2ecc71', alpha=0.8, label='Ground truth')\n",
    "ax2.plot(dates_dec_tree[5947::], Y_test_DT, lw=3, color='#2ecc71', alpha=0.8, label='Ground truth')\n",
    "ax1.plot(dates_dec_tree[0:5946], regressor_dec_tree.predict(X_train_DT), lw=3, color='#e74c3c', alpha=0.8, label='TRAIN')\n",
    "ax2.plot(dates_dec_tree[5947::], regressor_dec_tree.predict(X_test_DT), lw=3, color='#e74c3c', alpha=0.8, label='TEST')\n",
    "ax1.legend()\n",
    "ax2.legend()"
   ],
   "metadata": {
    "collapsed": false,
    "pycharm": {
     "name": "#%%\n"
    }
   }
  },
  {
   "cell_type": "markdown",
   "source": [
    "### Confronto Decision Tree Batch vs Decision Tree Online"
   ],
   "metadata": {
    "collapsed": false,
    "pycharm": {
     "name": "#%% md\n"
    }
   }
  },
  {
   "cell_type": "code",
   "execution_count": null,
   "outputs": [],
   "source": [
    "fig, (ax1,ax2) = plt.subplots(1,2, figsize=(20, 12))\n",
    "\n",
    "fig.suptitle('Confronto Algoritmo Hoeffding Tree Regressor online vs ecision Tree Regressor Batch su periodo di test',  fontsize=16)\n",
    "\n",
    "ax1.bar(height=[mean_absolute_error(Y_test_DT, y_preds_dec_tree[5947::]),mean_absolute_error(Y_test_DT, regressor_dec_tree.predict(X_test_DT))], x=['MAE_online','MAE_BATCH'], color=['#e74c3c', 'cyan'])\n",
    "ax1.set_title('Confronto MAE')\n",
    "ax2.bar(height=[mean_squared_error(Y_test_DT, y_preds_dec_tree[5947::]),mean_squared_error(Y_test_DT, regressor_dec_tree.predict(X_test_DT))], x=['MSE_online','MSE_BATCH'], color=['#e74c3c', 'cyan'])\n",
    "ax2.set_title('Confronto MSE')\n",
    "\n",
    "red_patch = mpatches.Patch(color='#e74c3c', label='Online Model')\n",
    "cyan_patch= mpatches.Patch(color='cyan', label='Batch Model')\n",
    "ax1.legend(handles=[red_patch, cyan_patch])\n",
    "ax2.legend(handles=[red_patch, cyan_patch])"
   ],
   "metadata": {
    "collapsed": false,
    "pycharm": {
     "name": "#%%\n"
    }
   }
  },
  {
   "cell_type": "code",
   "execution_count": null,
   "outputs": [],
   "source": [
    "fig, (ax1,ax2) = plt.subplots(1,2,figsize=(20, 12))\n",
    "\n",
    "fig.suptitle('Confronto Algoritmo Hoeffding Tree Regressor online vs Decision Tree Regressor Batch',  fontsize=16)\n",
    "\n",
    "ax1.bar(height=[metrics_MAE_dec_tree[-1],mean_absolute_error(Y_test_DT, regressor_dec_tree.predict(X_test_DT))], x=['MAE_online','MAE_BATCH'], color=['#e74c3c', 'cyan'])\n",
    "ax1.set_title('Confronto MAE')\n",
    "ax2.bar(height=[metrics_MSE_dec_tree[-1],mean_squared_error(Y_test_DT, regressor_dec_tree.predict(X_test_DT))], x=['MSE_online','MSE_BATCH'], color=['#e74c3c', 'cyan'])\n",
    "ax2.set_title('Confronto MSE')\n",
    "\n",
    "red_patch = mpatches.Patch(color='#e74c3c', label='Online Model')\n",
    "cyan_patch= mpatches.Patch(color='cyan', label='Batch Model')\n",
    "ax1.legend(handles=[red_patch, cyan_patch])\n",
    "ax2.legend(handles=[red_patch, cyan_patch])"
   ],
   "metadata": {
    "collapsed": false,
    "pycharm": {
     "name": "#%%\n"
    }
   }
  },
  {
   "cell_type": "code",
   "execution_count": null,
   "outputs": [],
   "source": [
    "fig, (ax1,ax2) = plt.subplots(1,2,figsize=(20, 12))\n",
    "\n",
    "fig.suptitle('CConfronto Algoritmo Hoeffding Tree Regressor online  scenario di produzione vs Decision Tree Regressor Batch',  fontsize=16)\n",
    "\n",
    "ax1.bar(height=[6437.296063,mean_absolute_error(Y_test_DT, regr_mlp.predict(X_test_DT))], x=['MAE_online','MAE_BATCH'], color=['#e74c3c', 'cyan'])\n",
    "ax1.set_title('Confronto MAE')\n",
    "ax1.set_ylabel('MAE')\n",
    "ax2.bar(height=[57834254.995266,mean_squared_error(Y_test_DT, regr_mlp.predict(X_test_DT))], x=['MSE_online','MSE_BATCH'], color=['#e74c3c', 'cyan'])\n",
    "ax2.set_title('Confronto MSE')\n",
    "ax2.set_ylabel('MSE')\n",
    "\n",
    "red_patch = mpatches.Patch(color='#e74c3c', label='Online Model')\n",
    "cyan_patch= mpatches.Patch(color='cyan', label='Batch Model')\n",
    "ax1.legend(handles=[red_patch, cyan_patch])\n",
    "ax2.legend(handles=[red_patch, cyan_patch])"
   ],
   "metadata": {
    "collapsed": false,
    "pycharm": {
     "name": "#%%\n"
    }
   }
  },
  {
   "cell_type": "code",
   "execution_count": null,
   "outputs": [],
   "source": [
    "fig, ax = plt.subplots(figsize=(10, 6))\n",
    "\n",
    "fig.suptitle('Tempo D\\'esecuzione online vs Batch',  fontsize=16)\n",
    "\n",
    "ax.bar(height=[10.9940197,0.0190103], x=['MAE_online','MAE_BATCH'], color=['#e74c3c', 'cyan'])\n",
    "ax.set_ylabel('Sec')\n",
    "\n",
    "red_patch = mpatches.Patch(color='#e74c3c', label='Online Model')\n",
    "cyan_patch= mpatches.Patch(color='cyan', label='Batch Model')\n",
    "ax.legend(handles=[red_patch, cyan_patch])"
   ],
   "metadata": {
    "collapsed": false,
    "pycharm": {
     "name": "#%%\n"
    }
   }
  },
  {
   "cell_type": "code",
   "execution_count": null,
   "outputs": [],
   "source": [
    "# Plot the results\n",
    "fig, (ax1,ax2) = plt.subplots(2,1,figsize=(20, 12))\n",
    "fig.suptitle('Confronto predizioni online vs batch sulla lunghezza del test set',  fontsize=16)\n",
    "ax.grid(alpha=0.75)\n",
    "ax1.plot(dates_dec_tree[5947::], Y_test_DT, lw=3, color='#2ecc71', alpha=0.8, label='Ground truth')\n",
    "ax2.plot(dates_dec_tree[5947::], Y_test_DT, lw=3, color='#2ecc71', alpha=0.8, label='Ground truth')\n",
    "ax1.plot(dates_dec_tree[5947::], y_preds_dec_tree[5947::], lw=3, color='#e74c3c', alpha=0.8, label='Online')\n",
    "ax2.plot(dates_dec_tree[5947::], result_dec_tree, lw=3, color='#e74c3c', alpha=0.8, label='Batch')\n",
    "ax1.legend()\n",
    "ax2.legend()"
   ],
   "metadata": {
    "collapsed": false,
    "pycharm": {
     "name": "#%%\n"
    }
   }
  },
  {
   "cell_type": "markdown",
   "source": [
    "## Confronto Totale"
   ],
   "metadata": {
    "collapsed": false,
    "pycharm": {
     "name": "#%% md\n"
    }
   }
  },
  {
   "cell_type": "code",
   "execution_count": null,
   "outputs": [],
   "source": [
    "fig, (ax1,ax2) = plt.subplots(1,2,figsize=(30, 6))\n",
    "\n",
    "fig.suptitle('Confronto Algoritmi MLP - KNN - Random Forest - Decision Tree su periodo di test',  fontsize=16)\n",
    "\n",
    "red_patch = mpatches.Patch(color='#e74c3c', label='Online Model')\n",
    "cyan_patch= mpatches.Patch(color='cyan', label='Batch Model')\n",
    "\n",
    "\n",
    "ax1.bar(height=[\n",
    "       mean_absolute_error(Y_test_mlp, y_preds_ml_online[5947::]),mean_absolute_error(Y_test_mlp, regr_mlp.predict(X_test_mlp)),\n",
    "       mean_absolute_error(Y_test_knm, y_preds_knnreg[5947::]), mean_absolute_error(Y_test_knm, neigh.predict(X_test_knm)),\n",
    "       mean_absolute_error(Y_test_RF, y_preds_ranFor_on[5947::]),mean_absolute_error(Y_test_RF, regr_random_forest.predict(X_test_RF)),\n",
    "       mean_absolute_error(Y_test_DT, y_preds_dec_tree[5947::]), mean_absolute_error(Y_test_DT, regressor_dec_tree.predict(X_test_DT))\n",
    "                ],\n",
    "       x=['MAE_MLP_online','MAE_MLP_Batch','MAE_KNN_online','MAE_KNN_batch','MAE_RF_online','MAE_RF_batch','MAE_DT_online','MAE_DT_batch'],\n",
    "        color=['#e74c3c', 'cyan'])\n",
    "ax1.legend(handles=[red_patch, cyan_patch])\n",
    "ax1.set_title('Confronto MAE')\n",
    "ax2.bar(height=[\n",
    "       mean_squared_error(Y_test_mlp, y_preds_ml_online[5947::]),mean_squared_error(Y_test_mlp, regr_mlp.predict(X_test_mlp)),\n",
    "       mean_squared_error(Y_test_knm, y_preds_knnreg[5947::]), mean_squared_error(Y_test_knm, neigh.predict(X_test_knm)),\n",
    "       mean_squared_error(Y_test_RF, y_preds_ranFor_on[5947::]),mean_squared_error(Y_test_RF, regr_random_forest.predict(X_test_RF)),\n",
    "       mean_squared_error(Y_test_DT, y_preds_dec_tree[5947::]), mean_squared_error(Y_test_DT, regressor_dec_tree.predict(X_test_DT))\n",
    "                ],\n",
    "       x=['MSE_MLP_online','MSE_MLP_Batch','MSE_KNN_online','MSE_KNN_batch','MSE_RF_online','MSE_RF_batch','MSE_DT_online','MSE_DT_batch'],\n",
    "       color=['#e74c3c', 'cyan'])\n",
    "ax2.legend(handles=[red_patch, cyan_patch])\n",
    "ax2.set_title('Confronto MSE')"
   ],
   "metadata": {
    "collapsed": false,
    "pycharm": {
     "name": "#%%\n"
    }
   }
  },
  {
   "cell_type": "code",
   "execution_count": null,
   "outputs": [],
   "source": [
    "fig, (ax1,ax2) = plt.subplots(1,2,figsize=(30, 6))\n",
    "\n",
    "fig.suptitle('Confronto Algoritmi MLP - KNN - Random Forest - Decision Tree',  fontsize=16)\n",
    "\n",
    "red_patch = mpatches.Patch(color='#e74c3c', label='Online Model')\n",
    "cyan_patch= mpatches.Patch(color='cyan', label='Batch Model')\n",
    "\n",
    "\n",
    "ax1.bar(height=[\n",
    "       metrics_MAE_ml_online[-1],mean_absolute_error(Y_test_mlp, regr_mlp.predict(X_test_mlp)),\n",
    "       metrics_MAE_knnreg[-1], mean_absolute_error(Y_test_knm, neigh.predict(X_test_knm)),\n",
    "       metrics_MAE_ranFor_on[-1],mean_absolute_error(Y_test_RF, regr_random_forest.predict(X_test_RF)),\n",
    "       metrics_MAE_dec_tree[-1], mean_absolute_error(Y_test_DT, regressor_dec_tree.predict(X_test_DT))\n",
    "                ],\n",
    "       x=['MAE_MLP_online','MAE_MLP_Batch','MAE_KNN_online','MAE_KNN_batch','MAE_RF_online','MAE_RF_batch','MAE_DT_online','MAE_DT_batch'],\n",
    "        color=['#e74c3c', 'cyan'])\n",
    "ax1.legend(handles=[red_patch, cyan_patch])\n",
    "ax1.set_title('Confronto MAE')\n",
    "ax2.bar(height=[\n",
    "       metrics_MSE_ml_online[-1],mean_squared_error(Y_test_mlp, regr_mlp.predict(X_test_mlp)),\n",
    "       metrics_MSE_knnreg[-1], mean_squared_error(Y_test_knm, neigh.predict(X_test_knm)),\n",
    "       metrics_MSE_ranFor_on[-1],mean_squared_error(Y_test_RF, regr_random_forest.predict(X_test_RF)),\n",
    "       metrics_MSE_dec_tree[-1], mean_squared_error(Y_test_DT, regressor_dec_tree.predict(X_test_DT))\n",
    "                ],\n",
    "       x=['MSE_MLP_online','MSE_MLP_Batch','MSE_KNN_online','MSE_KNN_batch','MSE_RF_online','MSE_RF_batch','MSE_DT_online','MSE_DT_batch'],\n",
    "       color=['#e74c3c', 'cyan'])\n",
    "ax2.legend(handles=[red_patch, cyan_patch])\n",
    "ax2.set_title('Confronto MSE')"
   ],
   "metadata": {
    "collapsed": false,
    "pycharm": {
     "name": "#%%\n"
    }
   }
  },
  {
   "cell_type": "code",
   "execution_count": null,
   "outputs": [],
   "source": [
    "fig, (ax1,ax2) = plt.subplots(1,2,figsize=(30, 6))\n",
    "\n",
    "fig.suptitle('Confronto Algoritmi MLP - KNN - Random Forest - Decision Tree nello scenario di produzione',  fontsize=16)\n",
    "\n",
    "ax1.bar(height=[\n",
    "       6514.380636,mean_absolute_error(Y_test_mlp, regr_mlp.predict(X_test_mlp)),\n",
    "       7632.871277, mean_absolute_error(Y_test_knm, neigh.predict(X_test_knm)),\n",
    "       2171.559276,mean_absolute_error(Y_test_RF, regr_random_forest.predict(X_test_RF)),\n",
    "       6437.296063, mean_absolute_error(Y_test_DT, regressor_dec_tree.predict(X_test_DT))\n",
    "                ],\n",
    "       x=['MAE_MLP_online','MAE_MLP_Batch','MAE_KNN_online','MAE_KNN_batch','MAE_RF_online','MAE_RF_batch','MAE_DT_online','MAE_DT_batch'],\n",
    "        color=['#e74c3c', 'cyan'],\n",
    "       )\n",
    "red_patch = mpatches.Patch(color='#e74c3c', label='Online Model')\n",
    "cyan_patch= mpatches.Patch(color='cyan', label='Batch Model')\n",
    "ax1.legend(handles=[red_patch, cyan_patch])\n",
    "ax1.set_title('Confronto MAE')\n",
    "ax2.bar(height=[\n",
    "       60000966.283311,mean_squared_error(Y_test_mlp, regr_mlp.predict(X_test_mlp)),\n",
    "       76816720.473762, mean_squared_error(Y_test_knm, neigh.predict(X_test_knm)),\n",
    "       14962137.707209,mean_squared_error(Y_test_RF, regr_random_forest.predict(X_test_RF)),\n",
    "       57834254.995266, mean_squared_error(Y_test_DT, regressor_dec_tree.predict(X_test_DT))\n",
    "                ],\n",
    "       x=['MSE_MLP_online','MSE_MLP_Batch','MSE_KNN_online','MSE_KNN_batch','MSE_RF_online','MSE_RF_batch','MSE_DT_online','MSE_DT_batch'],\n",
    "       color=['#e74c3c', 'cyan'])\n",
    "ax2.legend(handles=[red_patch, cyan_patch])\n",
    "ax2.set_title('Confronto MSE')\n",
    "\n",
    "\n"
   ],
   "metadata": {
    "collapsed": false,
    "pycharm": {
     "name": "#%%\n"
    }
   }
  },
  {
   "cell_type": "code",
   "execution_count": null,
   "outputs": [],
   "source": [
    "fig, ax = plt.subplots(figsize=(15, 6))\n",
    "\n",
    "red_patch = mpatches.Patch(color='#e74c3c', label='Online Model')\n",
    "cyan_patch= mpatches.Patch(color='cyan', label='Batch Model')\n",
    "\n",
    "fig.suptitle('Tempo D\\'esecuzione online vs Batch',  fontsize=16)\n",
    "\n",
    "ax.bar(\n",
    "       height=[7.974549770355225,0.22284626960754395, 0.74070644, 0.011910, 31.76457500, 1.23618531, 10.9940197, 0.0190103],\n",
    "       x=['MLP_online','MLP_Batch','KNN_online','KNN_batch','RF_online','RF_batch','DT_online','DT_batch'],\n",
    "       color=['#e74c3c', 'cyan']\n",
    ")\n",
    "ax.legend(handles=[red_patch, cyan_patch])\n",
    "ax.set_ylabel('Sec')"
   ],
   "metadata": {
    "collapsed": false,
    "pycharm": {
     "name": "#%%\n"
    }
   }
  },
  {
   "cell_type": "code",
   "execution_count": null,
   "outputs": [],
   "source": [
    "# Plot the results\n",
    "fig, ((ax1,ax2),(ax3,ax4),(ax5,ax6),(ax7,ax8)) = plt.subplots(4,2,figsize=(20, 12))\n",
    "fig.suptitle('Confronto predizioni online vs batch sulla lunghezza del test set',  fontsize=16)\n",
    "ax.grid(alpha=0.75)\n",
    "ax1.plot(dates_dec_tree[5947::], Y_test_DT, lw=3, color='#2ecc71', alpha=0.8, label='Ground truth')\n",
    "ax2.plot(dates_dec_tree[5947::], Y_test_DT, lw=3, color='#2ecc71', alpha=0.8, label='Ground truth')\n",
    "ax3.plot(dates_dec_tree[5947::], Y_test_DT, lw=3, color='#2ecc71', alpha=0.8, label='Ground truth')\n",
    "ax4.plot(dates_dec_tree[5947::], Y_test_DT, lw=3, color='#2ecc71', alpha=0.8, label='Ground truth')\n",
    "ax5.plot(dates_dec_tree[5947::], Y_test_DT, lw=3, color='#2ecc71', alpha=0.8, label='Ground truth')\n",
    "ax6.plot(dates_dec_tree[5947::], Y_test_DT, lw=3, color='#2ecc71', alpha=0.8, label='Ground truth')\n",
    "ax7.plot(dates_dec_tree[5947::], Y_test_DT, lw=3, color='#2ecc71', alpha=0.8, label='Ground truth')\n",
    "ax8.plot(dates_dec_tree[5947::], Y_test_DT, lw=3, color='#2ecc71', alpha=0.8, label='Ground truth')\n",
    "\n",
    "ax1.plot(dates_dec_tree[5947::], y_preds_ml_online[5947::], lw=3, color='#e74c3c', alpha=0.8, label='MLP ONLINE')\n",
    "\n",
    "ax2.plot(dates_dec_tree[5947::], result_mlpBatch, lw=3, color='#e74c3c', alpha=0.8, label='MLP BATCH')\n",
    "\n",
    "ax3.plot(dates_dec_tree[5947::], y_preds_knnreg[5947::], lw=3, color='#e74c3c', alpha=0.8, label='KNN ONLINE')\n",
    "\n",
    "ax4.plot(dates_dec_tree[5947::], result_knnreg, lw=3, color='#e74c3c', alpha=0.8, label='KNN BATCH')\n",
    "\n",
    "ax5.plot(dates_dec_tree[5947::], y_preds_ranFor_on[5947::], lw=3, color='#e74c3c', alpha=0.8, label='RANDOM FOREST ONLINE')\n",
    "\n",
    "ax6.plot(dates_dec_tree[5947::], result_random_forest, lw=3, color='#e74c3c', alpha=0.8, label='RANDOM FOREST BATCH')\n",
    "\n",
    "ax7.plot(dates_dec_tree[5947::], y_preds_dec_tree[5947::], lw=3, color='#e74c3c', alpha=0.8, label='Decision TREE ONLINE')\n",
    "\n",
    "ax8.plot(dates_dec_tree[5947::], result_dec_tree, lw=3, color='#e74c3c', alpha=0.8, label='DECISION TREE BATCH')\n",
    "\n",
    "\n",
    "ax1.set_title('ONLINE MODELS')\n",
    "ax2.set_title('BATCH MODELS')\n",
    "\n",
    "ax1.legend()\n",
    "ax2.legend()\n",
    "ax3.legend()\n",
    "ax4.legend()\n",
    "ax5.legend()\n",
    "ax6.legend()\n",
    "ax7.legend()\n",
    "ax8.legend()"
   ],
   "metadata": {
    "collapsed": false,
    "pycharm": {
     "name": "#%%\n"
    }
   }
  },
  {
   "cell_type": "markdown",
   "source": [
    "\n",
    "\n",
    "\n",
    "\n",
    "\n",
    "\n",
    "\n",
    "\n"
   ],
   "metadata": {
    "collapsed": false,
    "pycharm": {
     "name": "#%% md\n"
    }
   }
  }
 ],
 "metadata": {
  "kernelspec": {
   "display_name": "Python 3",
   "language": "python",
   "name": "python3"
  },
  "language_info": {
   "codemirror_mode": {
    "name": "ipython",
    "version": 2
   },
   "file_extension": ".py",
   "mimetype": "text/x-python",
   "name": "python",
   "nbconvert_exporter": "python",
   "pygments_lexer": "ipython2",
   "version": "2.7.6"
  }
 },
 "nbformat": 4,
 "nbformat_minor": 0
}